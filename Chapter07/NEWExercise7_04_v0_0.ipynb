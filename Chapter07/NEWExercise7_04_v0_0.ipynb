{
 "cells": [
  {
   "cell_type": "markdown",
   "metadata": {},
   "source": [
    "# Text Summarization of After Twenty Years by O' Henry and Text Summarization of the first section of the Wikipedia article on Oscar Wilde using fine-tuned pre-trained BERT model for extractive summarization in each case (bert-extractive-summarizer) http://www.gutenberg.org/cache/epub/2776/pg2776.txt"
   ]
  },
  {
   "cell_type": "markdown",
   "metadata": {},
   "source": [
    "# After Twenty Years by O'Henry"
   ]
  },
  {
   "cell_type": "code",
   "execution_count": 3,
   "metadata": {},
   "outputs": [
    {
     "data": {
      "text/plain": [
       "'AFTER TWENTY YEARS The policeman on the beat moved up the avenue impressively. The impressiveness was habitual and not for show, for spectators were few. The time was barely 10 o\\'clock at night, but chilly gusts of wind with a taste of rain in them had well nigh de-peopled the streets. Trying doors as he went, twirling his club with many intricate and artful movements, turning now and then to cast his watchful eye adown the pacific thoroughfare, the officer, with his stalwart form and slight swagger, made a fine picture of a guardian of the peace. The vicinity was one that kept early hours. Now and then you might see the lights of a cigar store or of an all-night lunch counter; but the majority of the doors belonged to business places that had long since been closed. When about midway of a certain block the policeman suddenly slowed his walk. In the doorway of a darkened hardware store a man leaned, with an unlighted cigar in his mouth. As the policeman walked up to him the man spoke up quickly. \"It\\'s all right, officer,\" he said, reassuringly. \"I\\'m just waiting for a friend. It\\'s an appointment made twenty years ago. Sounds a little funny to you, doesn\\'t it? Well, I\\'ll explain if you\\'d like to make certain it\\'s all straight. About that long ago there used to be a restaurant where this store stands--\\'Big Joe\\' Brady\\'s restaurant.\" \"Until five years ago,\" said the policeman. \"It was torn down then.\" The man in the doorway struck a match and lit his cigar. The light showed a pale, square-jawed face with keen eyes, and a little white scar near his right eyebrow. His scarfpin was a large diamond, oddly set. \"Twenty years ago to-night,\" said the man, \"I dined here at \\'Big Joe\\' Brady\\'s with Jimmy Wells, my best chum, and the finest chap in the world. He and I were raised here in New York, just like two brothers, together. I was eighteen and Jimmy was twenty. The next morning I was to start for the West to make my fortune. You couldn\\'t have dragged Jimmy out of New York; he thought it was the only place on earth. Well, we agreed that night that we would meet here again exactly twenty years from that date and time, no matter what our conditions might be or from what distance we might have to come. We figured that in twenty years each of us ought to have our destiny worked out and our fortunes made, whatever they were going to be.\" \"It sounds pretty interesting,\" said the policeman. \"Rather a long time between meets, though, it seems to me. Haven\\'t you heard from your friend since you left?\" \"Well, yes, for a time we corresponded,\" said the other. \"But after a year or two we lost track of each other. You see, the West is a pretty big proposition, and I kept hustling around over it pretty lively. But I know Jimmy will meet me here if he\\'s alive, for he always was the truest, stanchest old chap in the world. He\\'ll never forget. I came a thousand miles to stand in this door to-night, and it\\'s worth it if my old partner turns up.\" The waiting man pulled out a handsome watch, the lids of it set with small diamonds. \"Three minutes to ten,\" he announced. \"It was exactly ten o\\'clock when we parted here at the restaurant door.\" \"Did pretty well out West, didn\\'t you?\" asked the policeman. \"You bet! I hope Jimmy has done half as well. He was a kind of plodder, though, good fellow as he was. I\\'ve had to compete with some of the sharpest wits going to get my pile. A man gets in a groove in New York. It takes the West to put a razor-edge on him.\" The policeman twirled his club and took a step or two. \"I\\'ll be on my way. Hope your friend comes around all right. Going to call time on him sharp?\" \"I should say not!\" said the other. \"I\\'ll give him half an hour at least. If Jimmy is alive on earth he\\'ll be here by that time. So long, officer.\" \"Good-night, sir,\" said the policeman, passing on along his beat, trying doors as he went. There was now a fine, cold drizzle falling, and the wind had risen from its uncertain puffs into a steady blow. The few foot passengers astir in that quarter hurried dismally and silently along with coat collars turned high and pocketed hands. And in the door of the hardware store the man who had come a thousand miles to fill an appointment, uncertain almost to absurdity, with the friend of his youth, smoked his cigar and waited. About twenty minutes he waited, and then a tall man in a long overcoat, with collar turned up to his ears, hurried across from the opposite side of the street. He went directly to the waiting man. \"Is that you, Bob?\" he asked, doubtfully. \"Is that you, Jimmy Wells?\" cried the man in the door. \"Bless my heart!\" exclaimed the new arrival, grasping both the other\\'s hands with his own. \"It\\'s Bob, sure as fate. I was certain I\\'d find you here if you were still in existence. Well, well, well!--twenty years is a long time. The old restaurant\\'s gone, Bob; I wish it had lasted, so we could have had another dinner there. How has the West treated you, old man?\" \"Bully; it has given me everything I asked it for. You\\'ve changed lots, Jimmy. I never thought you were so tall by two or three inches.\" \"Oh, I grew a bit after I was twenty.\" \"Doing well in New York, Jimmy?\" \"Moderately. I have a position in one of the city departments. Come on, Bob; we\\'ll go around to a place I know of, and have a good long talk about old times.\" The two men started up the street, arm in arm. The man from the West, his egotism enlarged by success, was beginning to outline the history of his career. The other, submerged in his overcoat, listened with interest. At the corner stood a drug store, brilliant with electric lights. When they came into this glare each of them turned simultaneously to gaze upon the other\\'s face. The man from the West stopped suddenly and released his arm. \"You\\'re not Jimmy Wells,\" he snapped. \"Twenty years is a long time, but not long enough to change a man\\'s nose from a Roman to a pug.\" \"It sometimes changes a good man into a bad one,\" said the tall man. \"You\\'ve been under arrest for ten minutes, \\'Silky\\' Bob. Chicago thinks you may have dropped over our way and wires us she wants to have a chat with you. Going quietly, are you? That\\'s sensible. Now, before we go on to the station here\\'s a note I was asked to hand you. You may read it here at the window. It\\'s from Patrolman Wells.\" The man from the West unfolded the little piece of paper handed him. His hand was steady when he began to read, but it trembled a little by the time he had finished. The note was rather short. \"_Bob: I was at the appointed place on time. When you struck the match to light your cigar I saw it was the face of the man wanted in Chicago. Somehow I couldn\\'t do it myself, so I went around and got a plain clothes man to do the job. JIMMY._\"'"
      ]
     },
     "execution_count": 3,
     "metadata": {},
     "output_type": "execute_result"
    }
   ],
   "source": [
    "from summarizer import Summarizer\n",
    "import pandas as pd\n",
    "import numpy as np\n",
    "import matplotlib.pyplot as plt\n",
    "import wikipedia\n",
    "import re\n",
    "\n",
    "file_url_after_twenty=r'.\\data\\ohenry\\pg2776.txt'\n",
    "with open(file_url_after_twenty, 'r') as f:\n",
    "        contents = f.read()\n",
    "\n",
    "start_string='AFTER TWENTY YEARS\\n\\n\\n'\n",
    "end_string='\\n\\n\\n\\n\\n\\nLOST ON DRESS PARADE'\n",
    "text_after_twenty=contents[contents.find(start_string):contents.find(end_string)]\n",
    "text_after_twenty=text_after_twenty.replace('\\n',' ')\n",
    "text_after_twenty=re.sub(r\"\\s+\",\" \",text_after_twenty)\n",
    "text_after_twenty"
   ]
  },
  {
   "cell_type": "code",
   "execution_count": 7,
   "metadata": {},
   "outputs": [
    {
     "data": {
      "image/png": "[encoded data removed]",
      "text/plain": [
       "<Figure size 432x288 with 1 Axes>"
      ]
     },
     "metadata": {
      "needs_background": "light"
     },
     "output_type": "display_data"
    }
   ],
   "source": [
    "length=[]\n",
    "sentences=text_after_twenty.split('.')\n",
    "for sentence in sentences:\n",
    "    length.append(len(sentence))\n",
    "    \n",
    "bins=int(np.log2(len(length)))+1\n",
    "arr=np.array(length)\n",
    "y,x = np.histogram(arr,bins=bins)\n",
    "x_mid=[(x[i]+x[i+1])/2 for i in range(bins)]\n",
    "x_right=[x[i+1] for i in range(bins)]\n",
    "width=x[1]-x[0]\n",
    "fig, ax = plt.subplots()\n",
    "plt.bar(x_mid,y, width=width*0.99,align='center')\n",
    "plt.title('Frequency Distribution of Sentence Length')\n",
    "plt.xticks(ticks=x_right)\n",
    "plt.show()"
   ]
  },
  {
   "cell_type": "code",
   "execution_count": 8,
   "metadata": {},
   "outputs": [
    {
     "data": {
      "text/plain": [
       "(27.800000000000004, 111.8)"
      ]
     },
     "execution_count": 8,
     "metadata": {},
     "output_type": "execute_result"
    }
   ],
   "source": [
    "pd.Series(length).quantile(0.1),pd.Series(length).quantile(0.9)"
   ]
  },
  {
   "cell_type": "code",
   "execution_count": 11,
   "metadata": {},
   "outputs": [
    {
     "name": "stdout",
     "output_type": "stream",
     "text": [
      "AFTER TWENTY YEARS The policeman on the beat moved up the avenue impressively. When about midway of a certain block the policeman suddenly slowed his walk. It's all right, officer,\" he said, reassuringly. \" You couldn't have dragged Jimmy out of New York; he thought it was the only place on earth. You see, the West is a pretty big proposition, and I kept hustling around over it pretty lively. But I know Jimmy will meet me here if he's alive, for he always was the truest, stanchest old chap in the world. asked the policeman. \" He was a kind of plodder, though, good fellow as he was. I've had to compete with some of the sharpest wits going to get my pile. I should say not!\" I'll give him half an hour at least. Good-night, sir,\" said the policeman, passing on along his beat, trying doors as he went. There was now a fine, cold drizzle falling, and the wind had risen from its uncertain puffs into a steady blow. Is that you, Bob?\" Moderately. The man from the West stopped suddenly and released his arm. \" You're not Jimmy Wells,\" he snapped. \" Twenty years is a long time, but not long enough to change a man's nose from a Roman to a pug.\" \" That's sensible. It's from Patrolman Wells.\" When you struck the match to light your cigar I saw it was the face of the man wanted in Chicago.\n"
     ]
    }
   ],
   "source": [
    "model = Summarizer(hidden=-2,random_state=12345)\n",
    "summary_text_after_twenty=model(text_after_twenty,min_length=0,ratio=0.20)\n",
    "print(summary_text_after_twenty)"
   ]
  },
  {
   "cell_type": "code",
   "execution_count": 13,
   "metadata": {},
   "outputs": [
    {
     "name": "stdout",
     "output_type": "stream",
     "text": [
      "AFTER TWENTY YEARS The policeman on the beat moved up the avenue impressively. The vicinity was one that kept early hours. In the doorway of a darkened hardware store a man leaned, with an unlighted cigar in his mouth. It's an appointment made twenty years ago. Sounds a little funny to you, doesn't it? His scarfpin was a large diamond, oddly set. \" You couldn't have dragged Jimmy out of New York; he thought it was the only place on earth. Haven't you heard from your friend since you left?\" \" You see, the West is a pretty big proposition, and I kept hustling around over it pretty lively. But I know Jimmy will meet me here if he's alive, for he always was the truest, stanchest old chap in the world. asked the policeman. \" He was a kind of plodder, though, good fellow as he was. It takes the West to put a razor-edge on him.\" I'll be on my way. So long, officer.\" \" he asked, doubtfully. \" Is that you, Jimmy Wells?\" exclaimed the new arrival, grasping both the other's hands with his own. \" It's Bob, sure as fate. I never thought you were so tall by two or three inches.\" \" The man from the West, his egotism enlarged by success, was beginning to outline the history of his career. The other, submerged in his overcoat, listened with interest. The man from the West unfolded the little piece of paper handed him. The note was rather short. \"_ Bob: I was at the appointed place on time. When you struck the match to light your cigar I saw it was the face of the man wanted in Chicago. JIMMY._\"\n"
     ]
    }
   ],
   "source": [
    "summary_text_after_twenty=model(text_after_twenty,min_length=0,ratio=0.25)\n",
    "print(summary_text_after_twenty)"
   ]
  },
  {
   "cell_type": "markdown",
   "metadata": {},
   "source": [
    "# Wikipedia article on Oscar Wilde (summary section)"
   ]
  },
  {
   "cell_type": "code",
   "execution_count": 24,
   "metadata": {},
   "outputs": [
    {
     "data": {
      "text/plain": [
       "'Oscar Fingal O\\'Flahertie Wills Wilde (16 October 1854 – 30 November 1900) was an Irish poet and playwright. After writing in different forms throughout the 1880s, the early 1890s saw him become one of the most popular playwrights in London. He is best remembered for his epigrams and plays, his novel The Picture of Dorian Gray, and the circumstances of his criminal conviction for \"gross indecency\", imprisonment, and early death at age 46. Wilde\\'s parents were successful Anglo-Irish intellectuals in Dublin. A young Wilde learned to speak fluent French and German. At university, Wilde read Greats; he demonstrated himself to be an exceptional classicist, first at Trinity College Dublin, then at Oxford. He became associated with the emerging philosophy of aestheticism, led by two of his tutors, Walter Pater and John Ruskin. After university, Wilde moved to London into fashionable cultural and social circles. As a spokesman for aestheticism, he tried his hand at various literary activities: he published a book of poems, lectured in the United States and Canada on the new \"English Renaissance in Art\" and interior decoration, and then returned to London where he worked prolifically as a journalist. Known for his biting wit, flamboyant dress and glittering conversational skill, Wilde became one of the best-known personalities of his day. At the turn of the 1890s, he refined his ideas about the supremacy of art in a series of dialogues and essays, and incorporated themes of decadence, duplicity, and beauty into what would be his only novel, The Picture of Dorian Gray (1890). The opportunity to construct aesthetic details precisely, and combine them with larger social themes, drew Wilde to write drama. He wrote Salome (1891) in French while in Paris but it was refused a licence for England due to an absolute prohibition on the portrayal of Biblical subjects on the English stage. Unperturbed, Wilde produced four society comedies in the early 1890s, which made him one of the most successful playwrights of late-Victorian London. At the height of his fame and success, while The Importance of Being Earnest (1895) was still being performed in London, Wilde had the Marquess of Queensberry prosecuted for criminal libel. The Marquess was the father of Wilde\\'s lover, Lord Alfred Douglas. The libel trial unearthed evidence that caused Wilde to drop his charges and led to his own arrest and trial for gross indecency with men. After two more trials he was convicted and sentenced to two years\\' hard labour, the maximum penalty, and was jailed from 1895 to 1897. During his last year in prison, he wrote De Profundis (published posthumously in 1905), a long letter which discusses his spiritual journey through his trials, forming a dark counterpoint to his earlier philosophy of pleasure. On his release, he left immediately for France, never to return to Ireland or Britain. There he wrote his last work, The Ballad of Reading Gaol (1898), a long poem commemorating the harsh rhythms of prison life.'"
      ]
     },
     "execution_count": 24,
     "metadata": {},
     "output_type": "execute_result"
    }
   ],
   "source": [
    "#text_wiki_oscarwilde=wikipedia.summary(\"Oscar Wilde\")\n",
    "file_url_wiki_oscarwilde=r'.\\data\\oscarwilde\\ow_wikipedia_sum.txt'\n",
    "with open(file_url_wiki_oscarwilde, 'r') as f:\n",
    "        text_wiki_oscarwilde = f.read()\n",
    "text_wiki_oscarwilde=text_wiki_oscarwilde.replace('\\n',' ')\n",
    "text_wiki_oscarwilde=re.sub(r\"\\s+\",\" \",text_wiki_oscarwilde)\n",
    "text_wiki_oscarwilde"
   ]
  },
  {
   "cell_type": "code",
   "execution_count": 28,
   "metadata": {},
   "outputs": [
    {
     "data": {
      "image/png": "[encoded data removed]",
      "text/plain": [
       "<Figure size 432x288 with 1 Axes>"
      ]
     },
     "metadata": {
      "needs_background": "light"
     },
     "output_type": "display_data"
    }
   ],
   "source": [
    "length=[]\n",
    "sentences=text_wiki_oscarwilde.split('.')\n",
    "for sentence in sentences:\n",
    "    length.append(len(sentence))\n",
    "    \n",
    "bins=int(np.log2(len(length)))+1\n",
    "arr=np.array(length)\n",
    "y,x = np.histogram(arr,bins=bins)\n",
    "x_mid=[(x[i]+x[i+1])/2 for i in range(bins)]\n",
    "x_right=[x[i+1] for i in range(bins)]\n",
    "width=x[1]-x[0]\n",
    "fig, ax = plt.subplots()\n",
    "plt.bar(x_mid,y, width=width*0.99,align='center')\n",
    "plt.title('Frequency Distribution of Sentence Length')\n",
    "plt.xticks(ticks=x_right)\n",
    "plt.show()"
   ]
  },
  {
   "cell_type": "code",
   "execution_count": 29,
   "metadata": {},
   "outputs": [
    {
     "data": {
      "text/plain": [
       "(66.2, 223.40000000000006)"
      ]
     },
     "execution_count": 29,
     "metadata": {},
     "output_type": "execute_result"
    }
   ],
   "source": [
    "pd.Series(length).quantile(0.1),pd.Series(length).quantile(0.9)"
   ]
  },
  {
   "cell_type": "code",
   "execution_count": 31,
   "metadata": {},
   "outputs": [
    {
     "name": "stdout",
     "output_type": "stream",
     "text": [
      "Oscar Fingal O'Flahertie Wills Wilde (16 October 1854 – 30 November 1900) was an Irish poet and playwright. After university, Wilde moved to London into fashionable cultural and social circles. At the turn of the 1890s, he refined his ideas about the supremacy of art in a series of dialogues and essays, and incorporated themes of decadence, duplicity, and beauty into what would be his only novel, The Picture of Dorian Gray (1890). Unperturbed, Wilde produced four society comedies in the early 1890s, which made him one of the most successful playwrights of late-Victorian London.\n"
     ]
    }
   ],
   "source": [
    "summary_wiki_oscarwilde=model(text_wiki_oscarwilde,min_length=0,ratio=0.20)\n",
    "print(summary_wiki_oscarwilde)"
   ]
  },
  {
   "cell_type": "code",
   "execution_count": 33,
   "metadata": {},
   "outputs": [
    {
     "name": "stdout",
     "output_type": "stream",
     "text": [
      "Oscar Fingal O'Flahertie Wills Wilde (16 October 1854 – 30 November 1900) was an Irish poet and playwright. He became associated with the emerging philosophy of aestheticism, led by two of his tutors, Walter Pater and John Ruskin. After university, Wilde moved to London into fashionable cultural and social circles. At the turn of the 1890s, he refined his ideas about the supremacy of art in a series of dialogues and essays, and incorporated themes of decadence, duplicity, and beauty into what would be his only novel, The Picture of Dorian Gray (1890). The opportunity to construct aesthetic details precisely, and combine them with larger social themes, drew Wilde to write drama.\n"
     ]
    }
   ],
   "source": [
    "summary_wiki_oscarwilde=model(text_wiki_oscarwilde,min_length=0,ratio=0.25)\n",
    "print(summary_wiki_oscarwilde)"
   ]
  }
 ],
 "metadata": {
  "kernelspec": {
   "display_name": "Python 3",
   "language": "python",
   "name": "python3"
  },
  "language_info": {
   "codemirror_mode": {
    "name": "ipython",
    "version": 3
   },
   "file_extension": ".py",
   "mimetype": "text/x-python",
   "name": "python",
   "nbconvert_exporter": "python",
   "pygments_lexer": "ipython3",
   "version": "3.7.3"
  }
 },
 "nbformat": 4,
 "nbformat_minor": 4
}
