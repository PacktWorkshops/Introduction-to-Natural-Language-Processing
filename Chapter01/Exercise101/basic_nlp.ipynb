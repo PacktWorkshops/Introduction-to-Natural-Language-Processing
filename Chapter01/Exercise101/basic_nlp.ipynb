{
 "cells": [
  {
   "cell_type": "code",
   "execution_count": 61,
   "metadata": {},
   "outputs": [
    {
     "data": {
      "text/plain": [
       "'The quick brown fox jumps over the lazy dog'"
      ]
     },
     "execution_count": 61,
     "metadata": {},
     "output_type": "execute_result"
    }
   ],
   "source": [
    "\"\"\"\n",
    "This python code contains basic text analytic functionaries.\n",
    "The unit test doc is written at the begining of every string.\n",
    "And the unit testing is done at the last cell of this notebook\n",
    "\"\"\"\n",
    "# @author Muzaffar\n",
    "\n",
    "sentence = 'The quick brown fox jumps over the lazy dog'\n",
    "sentence"
   ]
  },
  {
   "cell_type": "code",
   "execution_count": 10,
   "metadata": {},
   "outputs": [],
   "source": [
    "def find_word(word, sentence):\n",
    "    '''\n",
    "    This is a test case:\n",
    "    >>> find_word('quick',  'The quick brown fox jumps over the lazy dog')\n",
    "    True\n",
    "    '''\n",
    "    return word in sentence"
   ]
  },
  {
   "cell_type": "code",
   "execution_count": 3,
   "metadata": {},
   "outputs": [
    {
     "data": {
      "text/plain": [
       "True"
      ]
     },
     "execution_count": 3,
     "metadata": {},
     "output_type": "execute_result"
    }
   ],
   "source": [
    "find_word('quick', sentence)"
   ]
  },
  {
   "cell_type": "code",
   "execution_count": 17,
   "metadata": {},
   "outputs": [],
   "source": [
    "def get_index(word, text):\n",
    "    '''\n",
    "    This is a test case:\n",
    "    >>> get_index('fox',  'The quick brown fox jumps over the lazy dog')\n",
    "    16\n",
    "    '''\n",
    "    return text.index(word)"
   ]
  },
  {
   "cell_type": "code",
   "execution_count": 13,
   "metadata": {},
   "outputs": [
    {
     "data": {
      "text/plain": [
       "16"
      ]
     },
     "execution_count": 13,
     "metadata": {},
     "output_type": "execute_result"
    }
   ],
   "source": [
    "get_index('fox', sentence)"
   ]
  },
  {
   "cell_type": "code",
   "execution_count": 4,
   "metadata": {},
   "outputs": [
    {
     "data": {
      "text/plain": [
       "7"
      ]
     },
     "execution_count": 4,
     "metadata": {},
     "output_type": "execute_result"
    }
   ],
   "source": [
    "get_index('lazy', sentence.split())\n"
   ]
  },
  {
   "cell_type": "code",
   "execution_count": 34,
   "metadata": {},
   "outputs": [],
   "source": [
    "def get_word(text,rank):\n",
    "    '''\n",
    "    >>> get_word('The quick brown fox jumps over the lazy dog',2)\n",
    "    'brown'\n",
    "    '''\n",
    "    return text.split()[rank]"
   ]
  },
  {
   "cell_type": "code",
   "execution_count": 20,
   "metadata": {},
   "outputs": [
    {
     "data": {
      "text/plain": [
       "'brown'"
      ]
     },
     "execution_count": 20,
     "metadata": {},
     "output_type": "execute_result"
    }
   ],
   "source": [
    "get_word(sentence,2)"
   ]
  },
  {
   "cell_type": "code",
   "execution_count": 6,
   "metadata": {},
   "outputs": [
    {
     "data": {
      "text/plain": [
       "'nworb'"
      ]
     },
     "execution_count": 6,
     "metadata": {},
     "output_type": "execute_result"
    }
   ],
   "source": [
    "get_word(sentence,2)[::-1]"
   ]
  },
  {
   "cell_type": "code",
   "execution_count": 33,
   "metadata": {},
   "outputs": [
    {
     "data": {
      "text/plain": [
       "'Thedog'"
      ]
     },
     "execution_count": 33,
     "metadata": {},
     "output_type": "execute_result"
    }
   ],
   "source": [
    "def concat_words(text):\n",
    "    \"\"\"\n",
    "    This method will concat first and last \n",
    "    words of given text\n",
    "    \n",
    "    The below line is for unit tests\n",
    "    >>> concat_words('This is for unit testing')\n",
    "    'Thistesting'\n",
    "    \n",
    "    \"\"\"\n",
    "    words = text.split()\n",
    "    first_word = words[0]\n",
    "    last_word = words[len(words)-1]\n",
    "    return first_word + last_word\n",
    "concat_words(sentence)"
   ]
  },
  {
   "cell_type": "code",
   "execution_count": 28,
   "metadata": {},
   "outputs": [],
   "source": [
    "def get_even_position_words(text):\n",
    "    \"\"\"\n",
    "    The below line is for unit tests\n",
    "    >>> get_even_position_words('This is for unit testing')\n",
    "    ['This', 'for', 'testing']\n",
    "    \"\"\"\n",
    "    words = text.split()\n",
    "    return [words[i] for i in range(len(words)) if i%2 == 0]"
   ]
  },
  {
   "cell_type": "code",
   "execution_count": 29,
   "metadata": {},
   "outputs": [
    {
     "data": {
      "text/plain": [
       "['The', 'brown', 'jumps', 'the', 'dog']"
      ]
     },
     "execution_count": 29,
     "metadata": {},
     "output_type": "execute_result"
    }
   ],
   "source": [
    "get_even_position_words(sentence)"
   ]
  },
  {
   "cell_type": "code",
   "execution_count": 43,
   "metadata": {},
   "outputs": [
    {
     "data": {
      "text/plain": [
       "'dog'"
      ]
     },
     "execution_count": 43,
     "metadata": {},
     "output_type": "execute_result"
    }
   ],
   "source": [
    "def get_last_n_letters(text, n):\n",
    "    \"\"\"\n",
    "    The below line is for unit tests\n",
    "    >>> get_last_n_letters('This is for unit testing',4)\n",
    "    'ting'\n",
    "    \"\"\"\n",
    "    return text[-n:]\n",
    "get_last_n_letters(sentence,3)"
   ]
  },
  {
   "cell_type": "code",
   "execution_count": 48,
   "metadata": {},
   "outputs": [
    {
     "data": {
      "text/plain": [
       "'god yzal eht revo spmuj xof nworb kciuq ehT'"
      ]
     },
     "execution_count": 48,
     "metadata": {},
     "output_type": "execute_result"
    }
   ],
   "source": [
    "def get_reverse(text):\n",
    "    \n",
    "    \"\"\"\n",
    "    The below line is for unit tests\n",
    "    >>> get_reverse('This is for unit testing')\n",
    "    'gnitset tinu rof si sihT'\n",
    "    \"\"\"\n",
    "    \n",
    "    return text[::-1]\n",
    "get_reverse(sentence)"
   ]
  },
  {
   "cell_type": "code",
   "execution_count": 56,
   "metadata": {},
   "outputs": [
    {
     "data": {
      "text/plain": [
       "'sihT si rof tinu gnitset'"
      ]
     },
     "execution_count": 56,
     "metadata": {},
     "output_type": "execute_result"
    }
   ],
   "source": [
    "def get_word_reverse(text):\n",
    "    \"\"\"\n",
    "     >>> get_word_reverse('This is for unit testing')\n",
    "     'sihT si rof tinu gnitset'\n",
    "    \"\"\"\n",
    "    words = text.split()\n",
    "    return ' '.join([word[::-1] for word in words])\n",
    "get_word_reverse('This is for unit testing')"
   ]
  },
  {
   "cell_type": "code",
   "execution_count": 60,
   "metadata": {},
   "outputs": [
    {
     "name": "stdout",
     "output_type": "stream",
     "text": [
      "Trying:\n",
      "    concat_words('This is for unit testing')\n",
      "Expecting:\n",
      "    'Thistesting'\n",
      "ok\n",
      "Trying:\n",
      "    find_word('quick',  'The quick brown fox jumps over the lazy dog')\n",
      "Expecting:\n",
      "    True\n",
      "ok\n",
      "Trying:\n",
      "    get_even_position_words('This is for unit testing')\n",
      "Expecting:\n",
      "    ['This', 'for', 'testing']\n",
      "ok\n",
      "Trying:\n",
      "    get_index('fox',  'The quick brown fox jumps over the lazy dog')\n",
      "Expecting:\n",
      "    16\n",
      "ok\n",
      "Trying:\n",
      "    get_last_n_letters('This is for unit testing',4)\n",
      "Expecting:\n",
      "    'ting'\n",
      "ok\n",
      "Trying:\n",
      "    get_reverse('This is for unit testing')\n",
      "Expecting:\n",
      "    'gnitset tinu rof si sihT'\n",
      "ok\n",
      "Trying:\n",
      "    get_word('The quick brown fox jumps over the lazy dog',2)\n",
      "Expecting:\n",
      "    'brown'\n",
      "ok\n",
      "Trying:\n",
      "    get_word_reverse('This is for unit testing')\n",
      "Expecting:\n",
      "    'sihT si rof tinu gnitset'\n",
      "ok\n",
      "1 items had no tests:\n",
      "    __main__\n",
      "8 items passed all tests:\n",
      "   1 tests in __main__.concat_words\n",
      "   1 tests in __main__.find_word\n",
      "   1 tests in __main__.get_even_position_words\n",
      "   1 tests in __main__.get_index\n",
      "   1 tests in __main__.get_last_n_letters\n",
      "   1 tests in __main__.get_reverse\n",
      "   1 tests in __main__.get_word\n",
      "   1 tests in __main__.get_word_reverse\n",
      "8 tests in 9 items.\n",
      "8 passed and 0 failed.\n",
      "Test passed.\n"
     ]
    },
    {
     "data": {
      "text/plain": [
       "TestResults(failed=0, attempted=8)"
      ]
     },
     "execution_count": 60,
     "metadata": {},
     "output_type": "execute_result"
    }
   ],
   "source": [
    "import doctest\n",
    "\n",
    "doctest.testmod(verbose=True)"
   ]
  },
  {
   "cell_type": "code",
   "execution_count": null,
   "metadata": {},
   "outputs": [],
   "source": []
  }
 ],
 "metadata": {
  "kernelspec": {
   "display_name": "Python 3",
   "language": "python",
   "name": "python3"
  },
  "language_info": {
   "codemirror_mode": {
    "name": "ipython",
    "version": 3
   },
   "file_extension": ".py",
   "mimetype": "text/x-python",
   "name": "python",
   "nbconvert_exporter": "python",
   "pygments_lexer": "ipython3",
   "version": "3.5.2"
  }
 },
 "nbformat": 4,
 "nbformat_minor": 2
}
