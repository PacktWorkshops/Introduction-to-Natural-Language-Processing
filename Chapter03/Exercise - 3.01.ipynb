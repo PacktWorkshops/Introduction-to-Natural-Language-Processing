{
 "cells": [
  {
   "cell_type": "code",
   "execution_count": 1,
   "metadata": {},
   "outputs": [],
   "source": [
    "from sklearn.datasets import fetch_20newsgroups\n",
    "from scipy.cluster.hierarchy import ward, dendrogram\n",
    "import matplotlib as mpl\n",
    "from scipy.cluster.hierarchy import fcluster\n",
    "from sklearn.metrics.pairwise import cosine_similarity\n",
    "import pandas as pd\n",
    "import numpy as np\n",
    "import matplotlib.pyplot as plt\n",
    "%matplotlib inline\n",
    "import re\n",
    "import string\n",
    "from nltk import word_tokenize\n",
    "from nltk.corpus import stopwords\n",
    "from nltk.stem import WordNetLemmatizer\n",
    "from sklearn.feature_extraction.text import TfidfVectorizer\n",
    "from collections import Counter\n",
    "from pylab import *\n",
    "import nltk\n",
    "import warnings\n",
    "warnings.filterwarnings('ignore')"
   ]
  },
  {
   "cell_type": "code",
   "execution_count": 2,
   "metadata": {},
   "outputs": [
    {
     "name": "stderr",
     "output_type": "stream",
     "text": [
      "[nltk_data] Downloading package stopwords to\n",
      "[nltk_data]     C:\\Users\\rohan.chopra\\AppData\\Roaming\\nltk_data...\n",
      "[nltk_data]   Package stopwords is already up-to-date!\n",
      "[nltk_data] Downloading package wordnet to\n",
      "[nltk_data]     C:\\Users\\rohan.chopra\\AppData\\Roaming\\nltk_data...\n",
      "[nltk_data]   Package wordnet is already up-to-date!\n"
     ]
    }
   ],
   "source": [
    "nltk.download('stopwords')\n",
    "stop_words=stopwords.words('english')\n",
    "stop_words=stop_words+list(string.printable)\n",
    "nltk.download('wordnet')\n",
    "lemmatizer=WordNetLemmatizer()"
   ]
  },
  {
   "cell_type": "code",
   "execution_count": 3,
   "metadata": {},
   "outputs": [],
   "source": [
    "categories= ['sci.space', 'sci.electronics', 'sci.med']"
   ]
  },
  {
   "cell_type": "code",
   "execution_count": 4,
   "metadata": {},
   "outputs": [],
   "source": [
    "news_data = fetch_20newsgroups(subset='train', categories=categories, shuffle=True, random_state=42, download_if_missing=True)"
   ]
  },
  {
   "cell_type": "code",
   "execution_count": 5,
   "metadata": {},
   "outputs": [
    {
     "data": {
      "text/plain": [
       "['From: landis@stsci.edu (Robert Landis,S202,,)\\nSubject: Re: Space Debris\\nReply-To: landis@stsci.edu\\nOrganization: Space Telescope Science Institute, Baltimore MD\\nLines: 14\\n\\nAnother fish to check out is Richard Rast -- he works\\nfor Lockheed Missiles, but is on-site at NASA Johnson.\\n\\nNick Johnson at Kaman Sciences in Colo. Spgs and his\\nfriend, Darren McKnight at Kaman in Alexandria, VA.\\n\\nGood luck.\\n\\nR. Landis\\n\\n\"Behind every general is his wife.... and...\\n behind every Hillary is a Bill . .\"\\n\\n\\n',\n",
       " \"From: markz@ssc.com (Mark Zenier)\\nSubject: Re: Can I use a CD4052 analog multiplexer for digital signals?\\nOrganization: SSC, Inc.,  Seattle, WA\\nX-Newsreader: TIN [version 1.1 PL6]\\nLines: 13\\n\\nTall Cool One (rky57514@uxa.cso.uiuc.edu) wrote:\\n: As the subject says - Can I use a 4052 for digital signals?  I don't see\\n: why it couldn't handle digital signals, but I could be wrong.  Anyone have\\n: any advice?  Thanks.\\n\\nThe switches have a non-negligable on resistance (up to 1k ohm when\\npowered by 5 volts) and a maximum current and a Maximum Static\\nVoltage Across Switch.  Not a good bet for TTL.  Should work for\\nCMOS, but slow things down a bit.  There are 74HC versions that\\nhave better specs. but lower max voltage.\\n\\nMark Zenier  markz@ssc.wa.com  markz@ssc.com  \\n\\n\",\n",
       " \"From: bj368@cleveland.Freenet.Edu (Mike E. Romano)\\nSubject: Home Medical Tests\\nOrganization: Case Western Reserve University, Cleveland, Ohio (USA)\\nLines: 21\\nNNTP-Posting-Host: hela.ins.cwru.edu\\n\\n\\nI am looking for current sources for lists of all the home\\nmedical tests currently legally available.\\nI believe this trend of allowing tests at home where\\nfeasible, decreased medical costs by a factor of 10 or\\nmore and allows the patient some time and privacy to\\nconsider the best action from the results of such tests.\\nIn fact I believe home medical tests and certain basic\\ntests for serious diseases such as cancer, heart disease,\\nshould be offered free to the American public.\\nThis could actually help to reduce national medical costs\\nsince many would have an earlier opportunity to know\\nabout and work toward recuperation or cure.\\nMike Romano\\n\\n\\n-- \\nSir, I admit your gen'ral rule\\nThat every poet is a fool;\\nBut you yourself may serve to show it,\\nThat every fool is not a poet.    A. Pope\\n\",\n",
       " 'From: sasghm@theseus.unx.sas.com (Gary Merrill)\\nSubject: Re: Science and methodology (was: Homeopathy ... tradition?)\\nOriginator: sasghm@theseus.unx.sas.com\\nNntp-Posting-Host: theseus.unx.sas.com\\nOrganization: SAS Institute Inc.\\nLines: 55\\n\\n\\nIn article <1993Apr16.155919.28040@cs.rochester.edu>, fulk@cs.rochester.edu (Mark Fulk) writes:\\n\\n|> Flights of fancy, and other irrational approaches, are common.  The crucial\\n|> thing is not to sit around just having fantasies; they aren\\'t of any use\\n|> unless they make you do some experiments.  I\\'ve known a lot of scientists\\n|> whose fantasies lead them on to creative work; usually they won\\'t admit\\n|> out loud what the fantasy was, prior to the consumption of a few beers.\\n|> \\n|> (Simple example: Warren Jelinek noticed an extremely heavy band on a DNA\\n|> electrophoresis gel of human ALU fragments.  He got very excited, hoping that\\n|> he\\'d seen some essential part of the control mechanism for eukaryotic\\n|> genes.  This fantasy led him to sequence samples of the band and carry out\\n|> binding assays.  The result was a well-conserved, 400 or so bp, sequence\\n\\nBut why do you characterize this as a \"flight of fancy\" or a \"fantasy\"?\\nWhile I am unfamiliar with the scientific context here, it appears obvious\\nthat his speculation (for lack of a better or more neutral word) was\\nat least in significant part a consequence of his knowledge of and acceptance\\nof current theory coupled with his observations.  It would appear that\\nsomething quite rational was going on as he attempted to fit his observation\\ninto that theory (or to tailor the theory to cover the observation).  This\\ndoes not seem like an example of what most would normally call a flight of\\nfancy or a fantasy.\\n\\n|> \\n|> It is not clear to me what you mean by rational vs. irrational.  Perhaps\\n|> you can give a few examples of surprising experiments that were tried out\\n|> for perfectly rational reasons, or interesting new theories that were first\\n|> advanced from logical grounds.  The main examples I can think of are from\\n|> modern high-energy physics which is not typical of science as a whole.\\n\\nWell, I think someone else in this thread was the first to use the word (also,\\n\"extra-scientific\", etc.).  Nor am I prepared to give a general account of\\nrationality.  In terms of examples, there is some danger of beginning to quibble\\nover what a \"surprising\" experiment is, what counts as \"surprising\", etc.\\nThe same may be said about \"logical grounds\".  My point is that quite frequently\\n(perhaps even most frequently) the roots of a new theory can be traced to\\npreviously existing theories (or even to previously rejected hypotheses of\\nsome other theory or domain).  I would offer some rather well known examples\\nsuch as Toricelli\\'s Puy de Dome experiment done for the sake of his \"sea of air\"\\nhypothesis.  Was this theory (and the resulting experimental test) \"surprising\"?\\nWell, given the *prior* explanations of the phenomena involved it certainly must\\nbe counted as so.  Was the theory constructed (and the experiment designed)\\nout of \"perfectly rational grounds\"?  Well, there was a pretty successful and\\nwell know theory of fluids.  The analogy to fluids by Toricelli is explicit.\\nThe novelty was in thinking of air as a fluid (but this was *quite* a novelty\\nat the time).  Was the theory interesting?  Yes.  Was it \"new\"?  Well, one\\ncould argue that it was merely the extension of an existing theory to a new\\ndomain, but I think this begs certain questions.  We can debate that if you\\nlike.\\n-- \\nGary H. Merrill  [Principal Systems Developer, C Compiler Development]\\nSAS Institute Inc. / SAS Campus Dr. / Cary, NC  27513 / (919) 677-8000\\nsasghm@theseus.unx.sas.com ... !mcnc!sas!sasghm\\n',\n",
       " \"From: Leigh Palmer <palmer@sfu.ca>\\nSubject: Re: Orion drive in vacuum -- how?\\nX-Xxmessage-Id: <A7F4E4ADFD021C0B@rs5-annex3.sfu.ca>\\nX-Xxdate: Fri, 16 Apr 93 06:33:17 GMT\\nOrganization: Simon Fraser University\\nX-Useragent: Nuntius v1.1.1d17\\nLines: 15\\n\\nIn article <1qn4bgINN4s7@mimi.UU.NET> James P. Goltz, goltz@mimi.UU.NET\\nwrites:\\n>  Background: The Orion spacedrive was a theoretical concept.\\n\\nIt was more than a theoretical concept; it was seriously pursued by\\nFreeman Dyson et al many years ago. I don't know how well-known this is,\\nbut a high explosive Orion prototype flew (in the atmosphere) in San\\nDiego back in 1957 or 1958. I was working at General Atomic at the time,\\nbut I didn't learn about the experiment until almost thirty years later,\\nwhen \\nTed Taylor visited us and revealed that it had been done. I feel sure\\nthat someone must have film of that experiment, and I'd really like to\\nsee it. Has anyone out there seen it?\\n\\nLeigh\\n\"]"
      ]
     },
     "execution_count": 5,
     "metadata": {},
     "output_type": "execute_result"
    }
   ],
   "source": [
    "news_data['data'][:5]"
   ]
  },
  {
   "cell_type": "code",
   "execution_count": 6,
   "metadata": {},
   "outputs": [
    {
     "data": {
      "text/plain": [
       "array([2, 0, 1, ..., 1, 1, 1], dtype=int64)"
      ]
     },
     "execution_count": 6,
     "metadata": {},
     "output_type": "execute_result"
    }
   ],
   "source": [
    "news_data.target"
   ]
  },
  {
   "cell_type": "code",
   "execution_count": 7,
   "metadata": {},
   "outputs": [
    {
     "data": {
      "text/html": [
       "<div>\n",
       "<style scoped>\n",
       "    .dataframe tbody tr th:only-of-type {\n",
       "        vertical-align: middle;\n",
       "    }\n",
       "\n",
       "    .dataframe tbody tr th {\n",
       "        vertical-align: top;\n",
       "    }\n",
       "\n",
       "    .dataframe thead th {\n",
       "        text-align: right;\n",
       "    }\n",
       "</style>\n",
       "<table border=\"1\" class=\"dataframe\">\n",
       "  <thead>\n",
       "    <tr style=\"text-align: right;\">\n",
       "      <th></th>\n",
       "      <th>text</th>\n",
       "      <th>category</th>\n",
       "    </tr>\n",
       "  </thead>\n",
       "  <tbody>\n",
       "    <tr>\n",
       "      <th>0</th>\n",
       "      <td>From: landis@stsci.edu (Robert Landis,S202,,)\\...</td>\n",
       "      <td>2</td>\n",
       "    </tr>\n",
       "    <tr>\n",
       "      <th>1</th>\n",
       "      <td>From: markz@ssc.com (Mark Zenier)\\nSubject: Re...</td>\n",
       "      <td>0</td>\n",
       "    </tr>\n",
       "    <tr>\n",
       "      <th>2</th>\n",
       "      <td>From: bj368@cleveland.Freenet.Edu (Mike E. Rom...</td>\n",
       "      <td>1</td>\n",
       "    </tr>\n",
       "    <tr>\n",
       "      <th>3</th>\n",
       "      <td>From: sasghm@theseus.unx.sas.com (Gary Merrill...</td>\n",
       "      <td>1</td>\n",
       "    </tr>\n",
       "    <tr>\n",
       "      <th>4</th>\n",
       "      <td>From: Leigh Palmer &lt;palmer@sfu.ca&gt;\\nSubject: R...</td>\n",
       "      <td>2</td>\n",
       "    </tr>\n",
       "  </tbody>\n",
       "</table>\n",
       "</div>"
      ],
      "text/plain": [
       "                                                text  category\n",
       "0  From: landis@stsci.edu (Robert Landis,S202,,)\\...         2\n",
       "1  From: markz@ssc.com (Mark Zenier)\\nSubject: Re...         0\n",
       "2  From: bj368@cleveland.Freenet.Edu (Mike E. Rom...         1\n",
       "3  From: sasghm@theseus.unx.sas.com (Gary Merrill...         1\n",
       "4  From: Leigh Palmer <palmer@sfu.ca>\\nSubject: R...         2"
      ]
     },
     "execution_count": 7,
     "metadata": {},
     "output_type": "execute_result"
    }
   ],
   "source": [
    "news_data_df = pd.DataFrame({'text' : news_data['data'], 'category': news_data.target})\n",
    "news_data_df.head()"
   ]
  },
  {
   "cell_type": "code",
   "execution_count": 8,
   "metadata": {},
   "outputs": [
    {
     "data": {
      "text/plain": [
       "1    594\n",
       "2    593\n",
       "0    591\n",
       "Name: category, dtype: int64"
      ]
     },
     "execution_count": 8,
     "metadata": {},
     "output_type": "execute_result"
    }
   ],
   "source": [
    "news_data_df['category'].value_counts()"
   ]
  },
  {
   "cell_type": "code",
   "execution_count": 9,
   "metadata": {},
   "outputs": [
    {
     "name": "stderr",
     "output_type": "stream",
     "text": [
      "[nltk_data] Downloading package punkt to\n",
      "[nltk_data]     C:\\Users\\rohan.chopra\\AppData\\Roaming\\nltk_data...\n",
      "[nltk_data]   Package punkt is already up-to-date!\n"
     ]
    },
    {
     "data": {
      "text/plain": [
       "True"
      ]
     },
     "execution_count": 9,
     "metadata": {},
     "output_type": "execute_result"
    }
   ],
   "source": [
    "nltk.download('punkt')"
   ]
  },
  {
   "cell_type": "code",
   "execution_count": 10,
   "metadata": {},
   "outputs": [],
   "source": [
    "news_data_df['cleaned_text'] = news_data_df['text'].apply(\\\n",
    "lambda x : ' '.join([lemmatizer.lemmatize(word.lower()) \\\n",
    "    for word in word_tokenize(re.sub(r'([^\\s\\w]|_)+', ' ', str(x))) if word.lower() not in stop_words]))"
   ]
  },
  {
   "cell_type": "code",
   "execution_count": 11,
   "metadata": {},
   "outputs": [
    {
     "data": {
      "text/html": [
       "<div>\n",
       "<style scoped>\n",
       "    .dataframe tbody tr th:only-of-type {\n",
       "        vertical-align: middle;\n",
       "    }\n",
       "\n",
       "    .dataframe tbody tr th {\n",
       "        vertical-align: top;\n",
       "    }\n",
       "\n",
       "    .dataframe thead th {\n",
       "        text-align: right;\n",
       "    }\n",
       "</style>\n",
       "<table border=\"1\" class=\"dataframe\">\n",
       "  <thead>\n",
       "    <tr style=\"text-align: right;\">\n",
       "      <th></th>\n",
       "      <th>10</th>\n",
       "      <th>12</th>\n",
       "      <th>14</th>\n",
       "      <th>15</th>\n",
       "      <th>1993</th>\n",
       "      <th>20</th>\n",
       "      <th>30</th>\n",
       "      <th>ac</th>\n",
       "      <th>access</th>\n",
       "      <th>actually</th>\n",
       "      <th>...</th>\n",
       "      <th>way</th>\n",
       "      <th>week</th>\n",
       "      <th>well</th>\n",
       "      <th>wire</th>\n",
       "      <th>without</th>\n",
       "      <th>work</th>\n",
       "      <th>world</th>\n",
       "      <th>would</th>\n",
       "      <th>writes</th>\n",
       "      <th>year</th>\n",
       "    </tr>\n",
       "  </thead>\n",
       "  <tbody>\n",
       "    <tr>\n",
       "      <th>0</th>\n",
       "      <td>0.000000</td>\n",
       "      <td>0.0</td>\n",
       "      <td>0.269858</td>\n",
       "      <td>0.000000</td>\n",
       "      <td>0.0</td>\n",
       "      <td>0.0</td>\n",
       "      <td>0.0</td>\n",
       "      <td>0.0</td>\n",
       "      <td>0.0</td>\n",
       "      <td>0.000000</td>\n",
       "      <td>...</td>\n",
       "      <td>0.0</td>\n",
       "      <td>0.0</td>\n",
       "      <td>0.000000</td>\n",
       "      <td>0.0</td>\n",
       "      <td>0.0</td>\n",
       "      <td>0.196925</td>\n",
       "      <td>0.0</td>\n",
       "      <td>0.000000</td>\n",
       "      <td>0.000000</td>\n",
       "      <td>0.000000</td>\n",
       "    </tr>\n",
       "    <tr>\n",
       "      <th>1</th>\n",
       "      <td>0.000000</td>\n",
       "      <td>0.0</td>\n",
       "      <td>0.000000</td>\n",
       "      <td>0.000000</td>\n",
       "      <td>0.0</td>\n",
       "      <td>0.0</td>\n",
       "      <td>0.0</td>\n",
       "      <td>0.0</td>\n",
       "      <td>0.0</td>\n",
       "      <td>0.000000</td>\n",
       "      <td>...</td>\n",
       "      <td>0.0</td>\n",
       "      <td>0.0</td>\n",
       "      <td>0.000000</td>\n",
       "      <td>0.0</td>\n",
       "      <td>0.0</td>\n",
       "      <td>0.180342</td>\n",
       "      <td>0.0</td>\n",
       "      <td>0.000000</td>\n",
       "      <td>0.000000</td>\n",
       "      <td>0.000000</td>\n",
       "    </tr>\n",
       "    <tr>\n",
       "      <th>2</th>\n",
       "      <td>0.087618</td>\n",
       "      <td>0.0</td>\n",
       "      <td>0.000000</td>\n",
       "      <td>0.000000</td>\n",
       "      <td>0.0</td>\n",
       "      <td>0.0</td>\n",
       "      <td>0.0</td>\n",
       "      <td>0.0</td>\n",
       "      <td>0.0</td>\n",
       "      <td>0.098047</td>\n",
       "      <td>...</td>\n",
       "      <td>0.0</td>\n",
       "      <td>0.0</td>\n",
       "      <td>0.000000</td>\n",
       "      <td>0.0</td>\n",
       "      <td>0.0</td>\n",
       "      <td>0.074932</td>\n",
       "      <td>0.0</td>\n",
       "      <td>0.056699</td>\n",
       "      <td>0.000000</td>\n",
       "      <td>0.000000</td>\n",
       "    </tr>\n",
       "    <tr>\n",
       "      <th>3</th>\n",
       "      <td>0.000000</td>\n",
       "      <td>0.0</td>\n",
       "      <td>0.000000</td>\n",
       "      <td>0.000000</td>\n",
       "      <td>0.0</td>\n",
       "      <td>0.0</td>\n",
       "      <td>0.0</td>\n",
       "      <td>0.0</td>\n",
       "      <td>0.0</td>\n",
       "      <td>0.000000</td>\n",
       "      <td>...</td>\n",
       "      <td>0.0</td>\n",
       "      <td>0.0</td>\n",
       "      <td>0.500329</td>\n",
       "      <td>0.0</td>\n",
       "      <td>0.0</td>\n",
       "      <td>0.066610</td>\n",
       "      <td>0.0</td>\n",
       "      <td>0.151207</td>\n",
       "      <td>0.042853</td>\n",
       "      <td>0.000000</td>\n",
       "    </tr>\n",
       "    <tr>\n",
       "      <th>4</th>\n",
       "      <td>0.000000</td>\n",
       "      <td>0.0</td>\n",
       "      <td>0.000000</td>\n",
       "      <td>0.205413</td>\n",
       "      <td>0.0</td>\n",
       "      <td>0.0</td>\n",
       "      <td>0.0</td>\n",
       "      <td>0.0</td>\n",
       "      <td>0.0</td>\n",
       "      <td>0.000000</td>\n",
       "      <td>...</td>\n",
       "      <td>0.0</td>\n",
       "      <td>0.0</td>\n",
       "      <td>0.176738</td>\n",
       "      <td>0.0</td>\n",
       "      <td>0.0</td>\n",
       "      <td>0.000000</td>\n",
       "      <td>0.0</td>\n",
       "      <td>0.000000</td>\n",
       "      <td>0.105964</td>\n",
       "      <td>0.331138</td>\n",
       "    </tr>\n",
       "  </tbody>\n",
       "</table>\n",
       "<p>5 rows × 200 columns</p>\n",
       "</div>"
      ],
      "text/plain": [
       "         10   12        14        15  1993   20   30   ac  access  actually  \\\n",
       "0  0.000000  0.0  0.269858  0.000000   0.0  0.0  0.0  0.0     0.0  0.000000   \n",
       "1  0.000000  0.0  0.000000  0.000000   0.0  0.0  0.0  0.0     0.0  0.000000   \n",
       "2  0.087618  0.0  0.000000  0.000000   0.0  0.0  0.0  0.0     0.0  0.098047   \n",
       "3  0.000000  0.0  0.000000  0.000000   0.0  0.0  0.0  0.0     0.0  0.000000   \n",
       "4  0.000000  0.0  0.000000  0.205413   0.0  0.0  0.0  0.0     0.0  0.000000   \n",
       "\n",
       "   ...  way  week      well  wire  without      work  world     would  \\\n",
       "0  ...  0.0   0.0  0.000000   0.0      0.0  0.196925    0.0  0.000000   \n",
       "1  ...  0.0   0.0  0.000000   0.0      0.0  0.180342    0.0  0.000000   \n",
       "2  ...  0.0   0.0  0.000000   0.0      0.0  0.074932    0.0  0.056699   \n",
       "3  ...  0.0   0.0  0.500329   0.0      0.0  0.066610    0.0  0.151207   \n",
       "4  ...  0.0   0.0  0.176738   0.0      0.0  0.000000    0.0  0.000000   \n",
       "\n",
       "     writes      year  \n",
       "0  0.000000  0.000000  \n",
       "1  0.000000  0.000000  \n",
       "2  0.000000  0.000000  \n",
       "3  0.042853  0.000000  \n",
       "4  0.105964  0.331138  \n",
       "\n",
       "[5 rows x 200 columns]"
      ]
     },
     "execution_count": 11,
     "metadata": {},
     "output_type": "execute_result"
    }
   ],
   "source": [
    "tfidf_model = TfidfVectorizer(max_features=200)\n",
    "tfidf_df = pd.DataFrame(tfidf_model.fit_transform(news_data_df['cleaned_text']).todense())\n",
    "tfidf_df.columns = sorted(tfidf_model.vocabulary_)\n",
    "tfidf_df.head()"
   ]
  },
  {
   "cell_type": "code",
   "execution_count": 12,
   "metadata": {},
   "outputs": [],
   "source": [
    "dist = 1 - cosine_similarity(tfidf_df)\n",
    "linkage_matrix = ward(dist)"
   ]
  },
  {
   "cell_type": "code",
   "execution_count": 13,
   "metadata": {},
   "outputs": [
    {
     "data": {
      "image/png": "[encoded data removed]",
      "text/plain": [
       "<Figure size 432x288 with 1 Axes>"
      ]
     },
     "metadata": {
      "needs_background": "light"
     },
     "output_type": "display_data"
    }
   ],
   "source": [
    "#Truncating the Dendrogram Truncation to show last 4 clusters\n",
    "plt.title('Hierarchical Clustering using truncated Dendrogram')\n",
    "plt.xlabel('clustered documents')\n",
    "plt.ylabel('distance')\n",
    "dendrogram(\n",
    "    linkage_matrix,\n",
    "    truncate_mode='lastp',  # showing only last p clusters after merging\n",
    "    p=4,  # p is the number of cluster that should remain after merging \n",
    "    leaf_rotation=90.,\n",
    "    leaf_font_size=12.\n",
    "    )\n",
    "plt.show()"
   ]
  },
  {
   "cell_type": "code",
   "execution_count": 14,
   "metadata": {},
   "outputs": [
    {
     "data": {
      "text/plain": [
       "array([2, 4, 4, ..., 3, 4, 4], dtype=int32)"
      ]
     },
     "execution_count": 14,
     "metadata": {},
     "output_type": "execute_result"
    }
   ],
   "source": [
    "k=4\n",
    "clusters = fcluster(linkage_matrix, k, criterion='maxclust')\n",
    "clusters"
   ]
  },
  {
   "cell_type": "code",
   "execution_count": 15,
   "metadata": {},
   "outputs": [
    {
     "data": {
      "text/html": [
       "<div>\n",
       "<style scoped>\n",
       "    .dataframe tbody tr th:only-of-type {\n",
       "        vertical-align: middle;\n",
       "    }\n",
       "\n",
       "    .dataframe tbody tr th {\n",
       "        vertical-align: top;\n",
       "    }\n",
       "\n",
       "    .dataframe thead th {\n",
       "        text-align: right;\n",
       "    }\n",
       "</style>\n",
       "<table border=\"1\" class=\"dataframe\">\n",
       "  <thead>\n",
       "    <tr style=\"text-align: right;\">\n",
       "      <th>obtained_clusters</th>\n",
       "      <th>cluster_1</th>\n",
       "      <th>cluster_2</th>\n",
       "      <th>cluster_3</th>\n",
       "      <th>cluster_4</th>\n",
       "    </tr>\n",
       "    <tr>\n",
       "      <th>category</th>\n",
       "      <th></th>\n",
       "      <th></th>\n",
       "      <th></th>\n",
       "      <th></th>\n",
       "    </tr>\n",
       "  </thead>\n",
       "  <tbody>\n",
       "    <tr>\n",
       "      <th>sci.electronics</th>\n",
       "      <td>101</td>\n",
       "      <td>10</td>\n",
       "      <td>64</td>\n",
       "      <td>419</td>\n",
       "    </tr>\n",
       "    <tr>\n",
       "      <th>sci.med</th>\n",
       "      <td>0</td>\n",
       "      <td>219</td>\n",
       "      <td>56</td>\n",
       "      <td>318</td>\n",
       "    </tr>\n",
       "    <tr>\n",
       "      <th>sci.space</th>\n",
       "      <td>0</td>\n",
       "      <td>24</td>\n",
       "      <td>120</td>\n",
       "      <td>447</td>\n",
       "    </tr>\n",
       "  </tbody>\n",
       "</table>\n",
       "</div>"
      ],
      "text/plain": [
       "obtained_clusters  cluster_1  cluster_2  cluster_3  cluster_4\n",
       "category                                                     \n",
       "sci.electronics          101         10         64        419\n",
       "sci.med                    0        219         56        318\n",
       "sci.space                  0         24        120        447"
      ]
     },
     "execution_count": 15,
     "metadata": {},
     "output_type": "execute_result"
    }
   ],
   "source": [
    "news_data_df['obtained_clusters'] = clusters\n",
    "pd.crosstab(news_data_df['category'].replace({0:'sci.space', 1:'sci.electronics', 2:'sci.med'}),\\\n",
    "            news_data_df['obtained_clusters'].\\\n",
    "            replace({1 : 'cluster_1', 2 : 'cluster_2', 3 : 'cluster_3', 4: 'cluster_4'}))"
   ]
  }
 ],
 "metadata": {
  "kernelspec": {
   "display_name": "Python 3",
   "language": "python",
   "name": "python3"
  },
  "language_info": {
   "codemirror_mode": {
    "name": "ipython",
    "version": 3
   },
   "file_extension": ".py",
   "mimetype": "text/x-python",
   "name": "python",
   "nbconvert_exporter": "python",
   "pygments_lexer": "ipython3",
   "version": "3.7.5"
  }
 },
 "nbformat": 4,
 "nbformat_minor": 2
}
