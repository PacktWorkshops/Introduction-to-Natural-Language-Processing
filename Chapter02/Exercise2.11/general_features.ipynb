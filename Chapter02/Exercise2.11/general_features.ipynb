{
 "cells": [
  {
   "cell_type": "code",
   "execution_count": null,
   "metadata": {},
   "outputs": [],
   "source": [
    "import pandas as pd\n",
    "from textblob import TextBlob"
   ]
  },
  {
   "cell_type": "code",
   "execution_count": null,
   "metadata": {},
   "outputs": [],
   "source": [
    "df = pd.DataFrame([['The interim budget for 2019 will be announced on 1st February.'], ['Do you know how much expectation the middle-class working population is having from this budget?'], ['February is the shortest month in a year.'], ['This financial year will end on 31st March.']])\n",
    "df.columns = ['text']\n",
    "df.head()"
   ]
  },
  {
   "cell_type": "code",
   "execution_count": null,
   "metadata": {},
   "outputs": [],
   "source": [
    "def add_num_words(df):\n",
    "    df['number_of_words'] = df['text'].apply(lambda x : len(TextBlob(str(x)).words))\n",
    "    return df\n"
   ]
  },
  {
   "cell_type": "code",
   "execution_count": null,
   "metadata": {},
   "outputs": [],
   "source": [
    "add_num_words(df)['number_of_words']"
   ]
  },
  {
   "cell_type": "code",
   "execution_count": null,
   "metadata": {},
   "outputs": [],
   "source": [
    "def is_present(wh_words, df):\n",
    " \n",
    "    # The below line of code will find the intersection between set of tokens of\n",
    "    #  every sentence and the wh_words and will return true if the length of intersection\n",
    "    #  set is non-zero.\n",
    "    df['is_wh_words_present'] = df['text'].apply(lambda x : True if \\\n",
    "                                                 len(set(TextBlob(str(x)).words).intersection(wh_words))>0 else False)\n",
    "    return df\n"
   ]
  },
  {
   "cell_type": "code",
   "execution_count": null,
   "metadata": {},
   "outputs": [],
   "source": [
    "wh_words = set(['why', 'who', 'which', 'what', 'where', 'when', 'how'])\n",
    "\n",
    "is_present(wh_words, df)['is_wh_words_present']"
   ]
  },
  {
   "cell_type": "code",
   "execution_count": null,
   "metadata": {},
   "outputs": [],
   "source": [
    "def get_language(df):\n",
    "    df['language'] = df['text'].apply(lambda x : TextBlob(str(x)).detect_language())\n",
    "    return df\n"
   ]
  },
  {
   "cell_type": "code",
   "execution_count": null,
   "metadata": {},
   "outputs": [],
   "source": [
    "get_language(df)['language']"
   ]
  },
  {
   "cell_type": "markdown",
   "metadata": {},
   "source": [
    "### The below cell is for testing different methods"
   ]
  },
  {
   "cell_type": "code",
   "execution_count": null,
   "metadata": {},
   "outputs": [],
   "source": [
    "\n",
    "# Create a test data frame\n",
    "test_df =  pd.DataFrame([{\"text\":\"this is  a cat\"}, {\"text\":\"why are you so happy\"}])\n",
    "\n",
    "# 1) TEST  add_num_words()\n",
    "\n",
    "# create a expected result data frame \n",
    "result_df =  test_df.copy(deep=True)\n",
    "result_df['number_of_words'] =[4,5]\n",
    "\n",
    "# Assert equality of the results and expected data frames\n",
    "\n",
    "pd.testing.assert_frame_equal(add_num_words(test_df),result_df,check_names=False)\n",
    "\n",
    "\n",
    "# 2) TEST  is_present()\n",
    "words_to_check = ['why', 'where', 'who']\n",
    "result_df['is_wh_words_present'] = [False, True]\n",
    "pd.testing.assert_frame_equal(is_present(words_to_check,test_df),result_df,check_names=False)\n",
    "\n",
    "# 3) TEST get_language()\n",
    "\n",
    "result_df['language'] = ['en', 'en']\n",
    "pd.testing.assert_frame_equal(get_language(test_df),result_df,check_names=False)\n"
   ]
  },
  {
   "cell_type": "code",
   "execution_count": null,
   "metadata": {},
   "outputs": [],
   "source": []
  }
 ],
 "metadata": {
  "kernelspec": {
   "display_name": "Python 3",
   "language": "python",
   "name": "python3"
  },
  "language_info": {
   "codemirror_mode": {
    "name": "ipython",
    "version": 3
   },
   "file_extension": ".py",
   "mimetype": "text/x-python",
   "name": "python",
   "nbconvert_exporter": "python",
   "pygments_lexer": "ipython3",
   "version": "3.5.2"
  }
 },
 "nbformat": 4,
 "nbformat_minor": 2
}
