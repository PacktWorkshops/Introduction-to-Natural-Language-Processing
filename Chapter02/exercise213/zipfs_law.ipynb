{
 "cells": [
  {
   "cell_type": "code",
   "execution_count": 1,
   "metadata": {},
   "outputs": [
    {
     "name": "stderr",
     "output_type": "stream",
     "text": [
      "[nltk_data] Downloading package stopwords to\n",
      "[nltk_data]     /home/muzaffar/nltk_data...\n",
      "[nltk_data]   Package stopwords is already up-to-date!\n"
     ]
    }
   ],
   "source": [
    "from pylab import *\n",
    "import nltk\n",
    "\n",
    "nltk.download('stopwords')\n",
    "from sklearn.datasets import fetch_20newsgroups\n",
    "from nltk import word_tokenize\n",
    "from nltk.corpus import stopwords\n",
    "import matplotlib.pyplot as plt\n",
    "import re\n",
    "import string\n",
    "from collections import Counter"
   ]
  },
  {
   "cell_type": "code",
   "execution_count": 26,
   "metadata": {},
   "outputs": [],
   "source": [
    "def get_stop_words():\n",
    "    \"\"\"\n",
    "    >>> list(get_stop_words()[:7])\n",
    "    ['i', 'me', 'my', 'myself', 'we', 'our', 'ours']\n",
    "    \"\"\"\n",
    "    stop_words = stopwords.words('english')\n",
    "    stop_words = stop_words + list(string.printable)\n",
    "    return stop_words"
   ]
  },
  {
   "cell_type": "code",
   "execution_count": 3,
   "metadata": {},
   "outputs": [],
   "source": [
    "def get_and_prepare_data(stop_words):\n",
    "    \"\"\"\n",
    "    This method will load 20newsgroups data and \n",
    "    and remove stop words from it using given stop word list.\n",
    "    :param stop_words: \n",
    "    :return: \n",
    "    \"\"\"\n",
    "    newsgroups_data_sample = fetch_20newsgroups(subset='train')\n",
    "    tokenized_corpus = [word.lower() for sentence in newsgroups_data_sample['data'] \\\n",
    "                        for word in word_tokenize(re.sub(r'([^\\s\\w]|_)+', ' ', sentence)) \\\n",
    "                        if word.lower() not in stop_words]\n",
    "    return tokenized_corpus\n"
   ]
  },
  {
   "cell_type": "code",
   "execution_count": 35,
   "metadata": {},
   "outputs": [],
   "source": [
    "def get_frequency(corpus, n):\n",
    "    \"\"\"\n",
    "    >>> get_frequency(['this', 'is','a','cat'],4)\n",
    "    [('is', 1), ('a', 1), ('cat', 1), ('this', 1)]\n",
    "    \n",
    "    \"\"\"\n",
    "    token_count_di = Counter(corpus)\n",
    "    return token_count_di.most_common(n)"
   ]
  },
  {
   "cell_type": "code",
   "execution_count": 5,
   "metadata": {},
   "outputs": [
    {
     "data": {
      "text/plain": [
       "[('ax', 62412),\n",
       " ('edu', 21321),\n",
       " ('subject', 12265),\n",
       " ('com', 12134),\n",
       " ('lines', 11835),\n",
       " ('organization', 11233),\n",
       " ('one', 9017),\n",
       " ('would', 8910),\n",
       " ('writes', 7844),\n",
       " ('article', 7438),\n",
       " ('people', 5977),\n",
       " ('like', 5868),\n",
       " ('university', 5589),\n",
       " ('posting', 5507),\n",
       " ('know', 5134),\n",
       " ('get', 4998),\n",
       " ('host', 4996),\n",
       " ('nntp', 4814),\n",
       " ('max', 4776),\n",
       " ('think', 4583),\n",
       " ('also', 4308),\n",
       " ('use', 4187),\n",
       " ('time', 4102),\n",
       " ('new', 3986),\n",
       " ('good', 3759),\n",
       " ('ca', 3546),\n",
       " ('could', 3511),\n",
       " ('well', 3480),\n",
       " ('us', 3364),\n",
       " ('may', 3313),\n",
       " ('even', 3280),\n",
       " ('see', 3065),\n",
       " ('cs', 3041),\n",
       " ('two', 3015),\n",
       " ('way', 3002),\n",
       " ('god', 2998),\n",
       " ('first', 2976),\n",
       " ('many', 2945),\n",
       " ('make', 2894),\n",
       " ('much', 2879),\n",
       " ('system', 2817),\n",
       " ('distribution', 2767),\n",
       " ('right', 2742),\n",
       " ('world', 2724),\n",
       " ('say', 2706),\n",
       " ('want', 2522),\n",
       " ('go', 2474),\n",
       " ('anyone', 2468),\n",
       " ('10', 2466),\n",
       " ('reply', 2463)]"
      ]
     },
     "execution_count": 5,
     "metadata": {},
     "output_type": "execute_result"
    }
   ],
   "source": [
    "stop_word_list = get_stop_words()\n",
    "corpus = get_and_prepare_data(stop_word_list)\n",
    "get_frequency(corpus, 50)"
   ]
  },
  {
   "cell_type": "code",
   "execution_count": 6,
   "metadata": {},
   "outputs": [],
   "source": [
    "def get_actual_and_expected_frequencies(corpus):\n",
    "    freq_dict = get_frequency(corpus, 1000)\n",
    "    actual_frequencies = []\n",
    "    expected_frequencies = []\n",
    "    for rank, tup in enumerate(freq_dict):\n",
    "        actual_frequencies.append(log(tup[1]))\n",
    "        rank = 1 if rank == 0 else rank\n",
    "        # expected frequency 1/rank as per zipf’s law\n",
    "        expected_frequencies.append(1 / rank)\n",
    "    return actual_frequencies, expected_frequencies\n",
    " \n"
   ]
  },
  {
   "cell_type": "code",
   "execution_count": 7,
   "metadata": {},
   "outputs": [
    {
     "data": {
      "image/png": "[encoded data removed]",
      "text/plain": [
       "<Figure size 432x288 with 1 Axes>"
      ]
     },
     "metadata": {
      "needs_background": "light"
     },
     "output_type": "display_data"
    }
   ],
   "source": [
    "def plot(actual_frequencies, expected_frequencies):\n",
    "    plt.plot(actual_frequencies, 'g*', expected_frequencies, 'ro')\n",
    "    plt.show()\n",
    " \n",
    " \n",
    "# We will plot the actual and expected frequencies\n",
    "actual_frequencies, expected_frequencies = get_actual_and_expected_frequencies(corpus)\n",
    "plot(actual_frequencies, expected_frequencies)\n"
   ]
  },
  {
   "cell_type": "markdown",
   "metadata": {},
   "source": [
    "#### As we can see in the above graph the two curves are almost parallel i.e we can say frequencies are proportional"
   ]
  },
  {
   "cell_type": "code",
   "execution_count": 36,
   "metadata": {},
   "outputs": [
    {
     "name": "stdout",
     "output_type": "stream",
     "text": [
      "Trying:\n",
      "    get_frequency(['this', 'is','a','cat'],4)\n",
      "Expecting:\n",
      "    [('is', 1), ('a', 1), ('cat', 1), ('this', 1)]\n",
      "ok\n",
      "Trying:\n",
      "    list(get_stop_words()[:7])\n",
      "Expecting:\n",
      "    ['i', 'me', 'my', 'myself', 'we', 'our', 'ours']\n",
      "ok\n",
      "4 items had no tests:\n",
      "    __main__\n",
      "    __main__.get_actual_and_expected_frequencies\n",
      "    __main__.get_and_prepare_data\n",
      "    __main__.plot\n",
      "2 items passed all tests:\n",
      "   1 tests in __main__.get_frequency\n",
      "   1 tests in __main__.get_stop_words\n",
      "2 tests in 6 items.\n",
      "2 passed and 0 failed.\n",
      "Test passed.\n"
     ]
    },
    {
     "data": {
      "text/plain": [
       "TestResults(failed=0, attempted=2)"
      ]
     },
     "execution_count": 36,
     "metadata": {},
     "output_type": "execute_result"
    }
   ],
   "source": [
    "import doctest\n",
    "doctest.testmod(verbose=True)"
   ]
  },
  {
   "cell_type": "code",
   "execution_count": null,
   "metadata": {},
   "outputs": [],
   "source": []
  }
 ],
 "metadata": {
  "kernelspec": {
   "display_name": "Python 3",
   "language": "python",
   "name": "python3"
  },
  "language_info": {
   "codemirror_mode": {
    "name": "ipython",
    "version": 3
   },
   "file_extension": ".py",
   "mimetype": "text/x-python",
   "name": "python",
   "nbconvert_exporter": "python",
   "pygments_lexer": "ipython3",
   "version": "3.5.2"
  }
 },
 "nbformat": 4,
 "nbformat_minor": 2
}
