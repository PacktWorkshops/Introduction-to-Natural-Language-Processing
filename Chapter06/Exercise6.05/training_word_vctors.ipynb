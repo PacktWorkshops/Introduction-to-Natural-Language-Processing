{
 "cells": [
  {
   "cell_type": "code",
   "execution_count": 1,
   "metadata": {},
   "outputs": [],
   "source": [
    "import requests\n",
    "import json\n",
    "import re\n"
   ]
  },
  {
   "cell_type": "code",
   "execution_count": 2,
   "metadata": {},
   "outputs": [],
   "source": [
    "with open('../../data_ch6/ProjectGutenbergBooks.json', 'r') as catalog_file:\n",
    "        catalog = json.load(catalog_file)\n",
    "\n"
   ]
  },
  {
   "cell_type": "code",
   "execution_count": 3,
   "metadata": {},
   "outputs": [
    {
     "data": {
      "text/plain": [
       "[{'author': 'Jane Austen', 'id': 1342, 'title': 'Pride and Prejudice'},\n",
       " {'author': 'Charles Dickens',\n",
       "  'id': 46,\n",
       "  'title': 'A Christmas Carol in Prose'},\n",
       " {'author': 'Charles Dickens', 'id': 98, 'title': 'A Tale of Two Cities'},\n",
       " {'author': 'Mary Wollstonecraft Shelley',\n",
       "  'id': 84,\n",
       "  'title': 'Frankenstein; Or, The Modern Prometheus'},\n",
       " {'author': 'Bram Stoker', 'id': 345, 'title': 'Dracula'},\n",
       " {'author': 'Joseph Conrad', 'id': 219, 'title': 'Heart of Darkness'},\n",
       " {'author': 'Herman Melville',\n",
       "  'id': 2701,\n",
       "  'title': 'Moby Dick; Or, The Whale'},\n",
       " {'author': 'Lewis Carroll',\n",
       "  'id': 11,\n",
       "  'title': \"Alice's Adventures in Wonderland\"},\n",
       " {'author': 'Arthur Conan Doyle',\n",
       "  'id': 1661,\n",
       "  'title': 'The Adventures of Sherlock Holmes'},\n",
       " {'author': 'Jonathan Swift', 'id': 1080, 'title': 'A Modest Proposal'}]"
      ]
     },
     "execution_count": 3,
     "metadata": {},
     "output_type": "execute_result"
    }
   ],
   "source": [
    "catalog"
   ]
  },
  {
   "cell_type": "code",
   "execution_count": 4,
   "metadata": {},
   "outputs": [],
   "source": [
    "GUTENBERG_URL ='https://www.gutenberg.org/files/{}/{}-0.txt'\n",
    " \n",
    "def load_book(book_id):\n",
    "    url = GUTENBERG_URL.format(book_id, book_id)\n",
    "    contents = requests.get(url).text\n",
    "    cleaned_contents = re.sub(r'\\r\\n', ' ', contents)\n",
    "    return cleaned_contents\n"
   ]
  },
  {
   "cell_type": "code",
   "execution_count": 6,
   "metadata": {},
   "outputs": [],
   "source": [
    "book_ids = [ book['id'] for book in catalog ]\n",
    "books = [ load_book(id) for id in book_ids]\n"
   ]
  },
  {
   "cell_type": "code",
   "execution_count": null,
   "metadata": {},
   "outputs": [],
   "source": [
    "from gensim.summarization import textcleaner\n",
    "from gensim.utils import simple_preprocess\n",
    " \n",
    "def to_sentences(book):\n",
    "    \"\"\"\n",
    "    >>> to_sentences(\"This is an example sentence. This is another example sentence.\")\n",
    "    [['this', 'is', 'an', 'example', 'sentence'], ['this', 'is', 'another', 'example', 'sentence']]\n",
    "    \"\"\"\n",
    "    sentences = textcleaner.split_sentences(book)\n",
    "    sentence_tokens = [simple_preprocess(sentence) for sentence in sentences]\n",
    "    return sentence_tokens\n"
   ]
  },
  {
   "cell_type": "code",
   "execution_count": null,
   "metadata": {},
   "outputs": [],
   "source": [
    "books_sentences = [to_sentences(book) for book in books]\n",
    "documents = [sentence for book_sent in books_sentences for sentence in book_sent]\n"
   ]
  },
  {
   "cell_type": "code",
   "execution_count": null,
   "metadata": {},
   "outputs": [],
   "source": [
    "len(documents)"
   ]
  },
  {
   "cell_type": "code",
   "execution_count": null,
   "metadata": {},
   "outputs": [],
   "source": [
    "from gensim.models import Word2Vec\n",
    "# build vocabulary and train model\n",
    "model = Word2Vec(\n",
    "        documents,\n",
    "        size=100,\n",
    "        window=10,\n",
    "        min_count=2,\n",
    "        workers=10)\n",
    "model.train(documents, total_examples=len(documents), epochs=50)\n"
   ]
  },
  {
   "cell_type": "code",
   "execution_count": null,
   "metadata": {},
   "outputs": [],
   "source": [
    "model.wv.most_similar(positive=\"worse\")"
   ]
  },
  {
   "cell_type": "markdown",
   "metadata": {},
   "source": [
    "### The below method is just for test case"
   ]
  },
  {
   "cell_type": "code",
   "execution_count": null,
   "metadata": {},
   "outputs": [],
   "source": [
    "def get_similar(word):\n",
    "    \"\"\"\n",
    "    >>> get_similar('worse')\n",
    "    'better'\n",
    "    \"\"\"\n",
    "    \n",
    "    return model.wv.most_similar(positive=word)[1][0]"
   ]
  },
  {
   "cell_type": "code",
   "execution_count": null,
   "metadata": {},
   "outputs": [],
   "source": [
    "%matplotlib inline\n",
    "import matplotlib.pyplot as plt\n",
    " \n",
    "def show_vector(word):\n",
    "    vector = model.wv[word]\n",
    "    fig, ax = plt.subplots(1,1, figsize=(10, 2))\n",
    "    ax.tick_params(axis='both', \n",
    "                   which='both',\n",
    "                 left=False, \n",
    "                   bottom=False, \n",
    "                   top=False,\n",
    "                   labelleft=False, \n",
    "                   labelbottom=False)\n",
    "    ax.grid(False)\n",
    "    print(word)\n",
    "    ax.bar(range(len(vector)), vector, 0.5)\n",
    " \n",
    "show_vector('sad')\n"
   ]
  },
  {
   "cell_type": "code",
   "execution_count": null,
   "metadata": {},
   "outputs": [],
   "source": [
    "import doctest\n",
    "doctest.testmod(verbose=True)"
   ]
  },
  {
   "cell_type": "code",
   "execution_count": null,
   "metadata": {},
   "outputs": [],
   "source": []
  }
 ],
 "metadata": {
  "kernelspec": {
   "display_name": "Python 3",
   "language": "python",
   "name": "python3"
  },
  "language_info": {
   "codemirror_mode": {
    "name": "ipython",
    "version": 3
   },
   "file_extension": ".py",
   "mimetype": "text/x-python",
   "name": "python",
   "nbconvert_exporter": "python",
   "pygments_lexer": "ipython3",
   "version": "3.5.2"
  }
 },
 "nbformat": 4,
 "nbformat_minor": 2
}
