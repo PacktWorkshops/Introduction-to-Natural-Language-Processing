{
 "cells": [
  {
   "cell_type": "code",
   "execution_count": 1,
   "metadata": {},
   "outputs": [],
   "source": [
    "import pandas as pd\n",
    "from gensim import utils\n",
    "from gensim.models.doc2vec import TaggedDocument\n",
    "from gensim.models import Doc2Vec\n",
    "from gensim.parsing.preprocessing import preprocess_string, remove_stopwords\n",
    "import random\n",
    "import warnings\n",
    "warnings.filterwarnings(\"ignore\")\n"
   ]
  },
  {
   "cell_type": "code",
   "execution_count": 2,
   "metadata": {},
   "outputs": [],
   "source": [
    "sample_news_data = '../data/sample_news_data.txt'"
   ]
  },
  {
   "cell_type": "code",
   "execution_count": 3,
   "metadata": {},
   "outputs": [],
   "source": [
    "with open(sample_news_data, encoding=\"utf8\", errors='ignore') as f:\n",
    "    news_lines = [line for line in f.readlines()]"
   ]
  },
  {
   "cell_type": "code",
   "execution_count": 4,
   "metadata": {},
   "outputs": [],
   "source": [
    "lines_df = pd.DataFrame()"
   ]
  },
  {
   "cell_type": "code",
   "execution_count": 5,
   "metadata": {},
   "outputs": [],
   "source": [
    "indices  = list(range(len(news_lines)))"
   ]
  },
  {
   "cell_type": "code",
   "execution_count": 6,
   "metadata": {},
   "outputs": [],
   "source": [
    "lines_df['news'] = news_lines\n",
    "lines_df['index'] = indices"
   ]
  },
  {
   "cell_type": "code",
   "execution_count": 7,
   "metadata": {},
   "outputs": [
    {
     "data": {
      "text/html": [
       "<div>\n",
       "<style scoped>\n",
       "    .dataframe tbody tr th:only-of-type {\n",
       "        vertical-align: middle;\n",
       "    }\n",
       "\n",
       "    .dataframe tbody tr th {\n",
       "        vertical-align: top;\n",
       "    }\n",
       "\n",
       "    .dataframe thead th {\n",
       "        text-align: right;\n",
       "    }\n",
       "</style>\n",
       "<table border=\"1\" class=\"dataframe\">\n",
       "  <thead>\n",
       "    <tr style=\"text-align: right;\">\n",
       "      <th></th>\n",
       "      <th>news</th>\n",
       "      <th>index</th>\n",
       "    </tr>\n",
       "  </thead>\n",
       "  <tbody>\n",
       "    <tr>\n",
       "      <th>0</th>\n",
       "      <td>Top of the Pops leaves BBC One The BBC flagshi...</td>\n",
       "      <td>0</td>\n",
       "    </tr>\n",
       "    <tr>\n",
       "      <th>1</th>\n",
       "      <td>Oscars race enters final furlong The race for ...</td>\n",
       "      <td>1</td>\n",
       "    </tr>\n",
       "    <tr>\n",
       "      <th>2</th>\n",
       "      <td>US TV special for tsunami relief A US televisi...</td>\n",
       "      <td>2</td>\n",
       "    </tr>\n",
       "    <tr>\n",
       "      <th>3</th>\n",
       "      <td>Williamson lauds bowlers for adapting to atypi...</td>\n",
       "      <td>3</td>\n",
       "    </tr>\n",
       "    <tr>\n",
       "      <th>4</th>\n",
       "      <td>Housewives lift Channel ratings The debut of U...</td>\n",
       "      <td>4</td>\n",
       "    </tr>\n",
       "  </tbody>\n",
       "</table>\n",
       "</div>"
      ],
      "text/plain": [
       "                                                news  index\n",
       "0  Top of the Pops leaves BBC One The BBC flagshi...      0\n",
       "1  Oscars race enters final furlong The race for ...      1\n",
       "2  US TV special for tsunami relief A US televisi...      2\n",
       "3  Williamson lauds bowlers for adapting to atypi...      3\n",
       "4  Housewives lift Channel ratings The debut of U...      4"
      ]
     },
     "execution_count": 7,
     "metadata": {},
     "output_type": "execute_result"
    }
   ],
   "source": [
    "lines_df.head()"
   ]
  },
  {
   "cell_type": "code",
   "execution_count": 8,
   "metadata": {},
   "outputs": [],
   "source": [
    "def preprocess( document):\n",
    "       return preprocess_string(remove_stopwords(document))"
   ]
  },
  {
   "cell_type": "code",
   "execution_count": 9,
   "metadata": {},
   "outputs": [],
   "source": [
    "document = lines_df['news'].apply(preprocess)"
   ]
  },
  {
   "cell_type": "code",
   "execution_count": 10,
   "metadata": {},
   "outputs": [],
   "source": [
    "documents = [ TaggedDocument( text, [index]) \n",
    "                          for index, text in document.iteritems() ]"
   ]
  },
  {
   "cell_type": "code",
   "execution_count": 11,
   "metadata": {},
   "outputs": [],
   "source": [
    "class DocumentDataset(object):\n",
    "    \n",
    "    def __init__(self, data:pd.DataFrame, column):\n",
    "        document = data[column].apply(self.preprocess)\n",
    "        \n",
    "        self.documents = [ TaggedDocument( text, [index]) \n",
    "                          for index, text in document.iteritems() ]\n",
    "      \n",
    "    def preprocess(self, document):\n",
    "        return preprocess_string(remove_stopwords(document))\n",
    "        \n",
    "    def __iter__(self):\n",
    "        for document in self.documents:\n",
    "            yield documents\n",
    "            \n",
    "    def tagged_documents(self, shuffle=False):\n",
    "        if shuffle:\n",
    "            random.shuffle(self.documents)\n",
    "        return self.documents\n"
   ]
  },
  {
   "cell_type": "code",
   "execution_count": 12,
   "metadata": {},
   "outputs": [],
   "source": [
    "documents_dataset = DocumentDataset(lines_df, 'news')"
   ]
  },
  {
   "cell_type": "code",
   "execution_count": 13,
   "metadata": {},
   "outputs": [],
   "source": [
    "docVecModel = Doc2Vec(min_count=1, window=5, vector_size=100, sample=1e-4, negative=5, workers=8)\n",
    "docVecModel.build_vocab(documents_dataset.tagged_documents())"
   ]
  },
  {
   "cell_type": "code",
   "execution_count": 14,
   "metadata": {},
   "outputs": [],
   "source": [
    "docVecModel.train(documents_dataset.tagged_documents(shuffle=True),\n",
    "            total_examples = docVecModel.corpus_count,\n",
    "           epochs=10)\n"
   ]
  },
  {
   "cell_type": "code",
   "execution_count": 15,
   "metadata": {},
   "outputs": [],
   "source": [
    "docVecModel.save('../data/docVecModel.d2v')"
   ]
  },
  {
   "cell_type": "code",
   "execution_count": 16,
   "metadata": {},
   "outputs": [
    {
     "data": {
      "text/plain": [
       "array([-0.00745789, -0.13715635, -0.00969581, -0.00963038, -0.07862813,\n",
       "        0.16961305,  0.01764342,  0.27434924, -0.1670058 , -0.02314752,\n",
       "        0.01397881,  0.13509084,  0.06938449, -0.19643015, -0.11606341,\n",
       "        0.06015337,  0.0357265 , -0.02640819, -0.05168901, -0.06237809,\n",
       "        0.13946953,  0.03808204,  0.02344201, -0.02510807,  0.1423145 ,\n",
       "       -0.08406999, -0.23282264, -0.07465853,  0.00133443, -0.28931755,\n",
       "        0.10464475, -0.20311593,  0.12531574, -0.05487047, -0.09725047,\n",
       "       -0.17731248,  0.20043996, -0.04030851, -0.29269817,  0.22077167,\n",
       "        0.28694895, -0.21089701,  0.05711896,  0.29105046,  0.16688958,\n",
       "       -0.09452026,  0.01050827, -0.10939511,  0.0558971 ,  0.17714266,\n",
       "        0.02145847, -0.14204092,  0.09855692,  0.02443875,  0.02200127,\n",
       "       -0.01046613, -0.17888539, -0.3487537 ,  0.2020746 , -0.29569995,\n",
       "        0.17299959, -0.23978971, -0.02040544, -0.04634554, -0.28907034,\n",
       "        0.25476813,  0.10013343, -0.17632225, -0.07590932,  0.03701409,\n",
       "       -0.04551542, -0.28841484, -0.21478823,  0.1084057 , -0.31037244,\n",
       "        0.05727619, -0.13637632, -0.11115575,  0.02382229,  0.14424431,\n",
       "        0.17582363, -0.02157903,  0.12371763,  0.03194283, -0.03008798,\n",
       "        0.06428696,  0.20281863,  0.08451559,  0.10161202,  0.20609692,\n",
       "        0.12596309, -0.0128795 , -0.15339164,  0.09154505,  0.13235909,\n",
       "       -0.06258058,  0.12447173, -0.02647199, -0.00498557, -0.25062802],\n",
       "      dtype=float32)"
      ]
     },
     "execution_count": 16,
     "metadata": {},
     "output_type": "execute_result"
    }
   ],
   "source": [
    "docVecModel[657]"
   ]
  },
  {
   "cell_type": "code",
   "execution_count": 17,
   "metadata": {},
   "outputs": [],
   "source": [
    "def get_document_vector(document_index):\n",
    "    return docVecModel[document_index]"
   ]
  },
  {
   "cell_type": "code",
   "execution_count": 18,
   "metadata": {},
   "outputs": [],
   "source": [
    "import matplotlib.pyplot as plt\n",
    " \n",
    "def show_image(vector, line):\n",
    "    fig, ax = plt.subplots(1,1, figsize=(10, 2))\n",
    "    ax.tick_params(axis='both', \n",
    "                   which='both',\n",
    "                   left=False, \n",
    "                   bottom=False,\n",
    "                   top=False,\n",
    "                   labelleft=False,\n",
    "                   labelbottom=False)\n",
    "    ax.grid(False)\n",
    "    print(line)\n",
    "    ax.bar(range(len(vector)), vector, 0.5)\n",
    "   \n",
    "  \n",
    "def show_news_line(line_number):\n",
    "    line = lines_df[lines_df.index==line_number].news\n",
    "    doc_vector = docVecModel[line_number]\n",
    "    show_image(doc_vector, line)\n"
   ]
  },
  {
   "cell_type": "code",
   "execution_count": 19,
   "metadata": {},
   "outputs": [
    {
     "name": "stdout",
     "output_type": "stream",
     "text": [
      "872    US budget deficit to reach The US budget defic...\n",
      "Name: news, dtype: object\n"
     ]
    },
    {
     "data": {
      "image/png": "[encoded data removed]",
      "text/plain": [
       "<Figure size 720x144 with 1 Axes>"
      ]
     },
     "metadata": {},
     "output_type": "display_data"
    }
   ],
   "source": [
    "show_news_line(872)"
   ]
  }
 ],
 "metadata": {
  "kernelspec": {
   "display_name": "Python 3",
   "language": "python",
   "name": "python3"
  },
  "language_info": {
   "codemirror_mode": {
    "name": "ipython",
    "version": 3
   },
   "file_extension": ".py",
   "mimetype": "text/x-python",
   "name": "python",
   "nbconvert_exporter": "python",
   "pygments_lexer": "ipython3",
   "version": "3.5.2"
  }
 },
 "nbformat": 4,
 "nbformat_minor": 2
}
