{
 "cells": [
  {
   "cell_type": "code",
   "execution_count": null,
   "metadata": {},
   "outputs": [],
   "source": [
    "from pathlib import Path\n",
    "data = Path('../../data_ch6')\n",
    "news_headlines_file = data / 'news_headlines.txt'\n"
   ]
  },
  {
   "cell_type": "code",
   "execution_count": null,
   "metadata": {},
   "outputs": [],
   "source": [
    "with news_headlines_file.open() as f:\n",
    "    news_headlines_raw = f.read()\n"
   ]
  },
  {
   "cell_type": "code",
   "execution_count": null,
   "metadata": {},
   "outputs": [],
   "source": [
    "news_headlines_raw"
   ]
  },
  {
   "cell_type": "code",
   "execution_count": null,
   "metadata": {},
   "outputs": [],
   "source": [
    "import string\n",
    "import re\n",
    " \n",
    "alpha_characters = str.maketrans('', '', string.punctuation)\n",
    " \n",
    "def clean_tokenize(text):\n",
    "    \"\"\"\n",
    "    >>> clean_tokenize(\"This ' is a \\  cat\")\n",
    "    ['this', 'is', 'a', 'cat']\n",
    "    \"\"\"\n",
    "    text = text.lower()\n",
    "    text = re.sub(r'\\n', '*** ', text)\n",
    "    text = text.translate(alpha_characters)\n",
    "    text = re.sub(r' +', ' ', text)\n",
    "    return text.strip().split(' ')\n",
    " \n",
    "news_headlines = clean_tokenize(news_headlines_raw)\n"
   ]
  },
  {
   "cell_type": "code",
   "execution_count": null,
   "metadata": {},
   "outputs": [],
   "source": [
    "news_headlines"
   ]
  },
  {
   "cell_type": "code",
   "execution_count": null,
   "metadata": {},
   "outputs": [],
   "source": [
    "import numpy as np\n",
    "news_headlines_array = np.array([news_headlines])\n",
    "news_headlines_array = news_headlines_array.reshape(-1, 1)\n",
    "news_headlines_array.shape\n"
   ]
  },
  {
   "cell_type": "code",
   "execution_count": null,
   "metadata": {},
   "outputs": [],
   "source": [
    "from sklearn import preprocessing\n",
    " \n",
    "labelEncoder = preprocessing.LabelEncoder()\n",
    "news_headlines_labels = labelEncoder.fit_transform(news_headlines_array)\n",
    " \n",
    "import warnings\n",
    "warnings.filterwarnings('ignore')\n",
    " \n",
    "wordOneHotEncoder = preprocessing.OneHotEncoder()\n",
    " \n",
    "line_onehot = wordOneHotEncoder.fit_transform(news_headlines_labels.reshape(-1,1))\n"
   ]
  },
  {
   "cell_type": "code",
   "execution_count": null,
   "metadata": {},
   "outputs": [],
   "source": [
    "news_headlines_labels"
   ]
  },
  {
   "cell_type": "code",
   "execution_count": null,
   "metadata": {},
   "outputs": [],
   "source": [
    "line_onehot"
   ]
  },
  {
   "cell_type": "code",
   "execution_count": null,
   "metadata": {},
   "outputs": [],
   "source": [
    "line_onehot.toarray()"
   ]
  },
  {
   "cell_type": "code",
   "execution_count": null,
   "metadata": {},
   "outputs": [],
   "source": [
    "clean_tokenize(\"This is ' a cat \\n\")"
   ]
  },
  {
   "cell_type": "code",
   "execution_count": null,
   "metadata": {},
   "outputs": [],
   "source": [
    "import doctest\n",
    "\n",
    "doctest.testmod(verbose=True)"
   ]
  },
  {
   "cell_type": "code",
   "execution_count": null,
   "metadata": {},
   "outputs": [],
   "source": []
  }
 ],
 "metadata": {
  "kernelspec": {
   "display_name": "Python 3",
   "language": "python",
   "name": "python3"
  },
  "language_info": {
   "codemirror_mode": {
    "name": "ipython",
    "version": 3
   },
   "file_extension": ".py",
   "mimetype": "text/x-python",
   "name": "python",
   "nbconvert_exporter": "python",
   "pygments_lexer": "ipython3",
   "version": "3.5.2"
  }
 },
 "nbformat": 4,
 "nbformat_minor": 2
}
