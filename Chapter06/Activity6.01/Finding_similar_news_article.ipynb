{
 "cells": [
  {
   "cell_type": "code",
   "execution_count": 5,
   "metadata": {},
   "outputs": [],
   "source": [
    "import warnings\n",
    "warnings.filterwarnings(\"ignore\")\n",
    " \n",
    "from gensim.models import Doc2Vec\n",
    "import pandas as pd\n",
    "from gensim.parsing.preprocessing import preprocess_string, remove_stopwords \n"
   ]
  },
  {
   "cell_type": "code",
   "execution_count": 6,
   "metadata": {},
   "outputs": [],
   "source": [
    "news_file = '../../data_ch6/sample_news_data.txt'\n",
    "with open(news_file, encoding=\"utf8\", errors='ignore') as f:\n",
    "    news_lines = [line for line in f.readlines()]"
   ]
  },
  {
   "cell_type": "code",
   "execution_count": 13,
   "metadata": {},
   "outputs": [],
   "source": [
    "lines_df = pd.DataFrame()\n",
    "indices  = list(range(len(news_lines)))\n",
    "lines_df['news'] = news_lines\n",
    "lines_df['index'] = indices"
   ]
  },
  {
   "cell_type": "code",
   "execution_count": 14,
   "metadata": {},
   "outputs": [
    {
     "data": {
      "text/html": [
       "<div>\n",
       "<style scoped>\n",
       "    .dataframe tbody tr th:only-of-type {\n",
       "        vertical-align: middle;\n",
       "    }\n",
       "\n",
       "    .dataframe tbody tr th {\n",
       "        vertical-align: top;\n",
       "    }\n",
       "\n",
       "    .dataframe thead th {\n",
       "        text-align: right;\n",
       "    }\n",
       "</style>\n",
       "<table border=\"1\" class=\"dataframe\">\n",
       "  <thead>\n",
       "    <tr style=\"text-align: right;\">\n",
       "      <th></th>\n",
       "      <th>news</th>\n",
       "      <th>index</th>\n",
       "    </tr>\n",
       "  </thead>\n",
       "  <tbody>\n",
       "    <tr>\n",
       "      <th>0</th>\n",
       "      <td>Top of the Pops leaves BBC One The BBC flagshi...</td>\n",
       "      <td>0</td>\n",
       "    </tr>\n",
       "    <tr>\n",
       "      <th>1</th>\n",
       "      <td>Oscars race enters final furlong The race for ...</td>\n",
       "      <td>1</td>\n",
       "    </tr>\n",
       "    <tr>\n",
       "      <th>2</th>\n",
       "      <td>US TV special for tsunami relief A US televisi...</td>\n",
       "      <td>2</td>\n",
       "    </tr>\n",
       "    <tr>\n",
       "      <th>3</th>\n",
       "      <td>Singer Ian Brown gig Former Stone Roses singer...</td>\n",
       "      <td>3</td>\n",
       "    </tr>\n",
       "    <tr>\n",
       "      <th>4</th>\n",
       "      <td>Housewives lift Channel ratings The debut of U...</td>\n",
       "      <td>4</td>\n",
       "    </tr>\n",
       "  </tbody>\n",
       "</table>\n",
       "</div>"
      ],
      "text/plain": [
       "                                                news  index\n",
       "0  Top of the Pops leaves BBC One The BBC flagshi...      0\n",
       "1  Oscars race enters final furlong The race for ...      1\n",
       "2  US TV special for tsunami relief A US televisi...      2\n",
       "3  Singer Ian Brown gig Former Stone Roses singer...      3\n",
       "4  Housewives lift Channel ratings The debut of U...      4"
      ]
     },
     "execution_count": 14,
     "metadata": {},
     "output_type": "execute_result"
    }
   ],
   "source": [
    "lines_df.head()"
   ]
  },
  {
   "cell_type": "code",
   "execution_count": 9,
   "metadata": {},
   "outputs": [],
   "source": [
    "docVecModel = Doc2Vec.load('../../data_ch6/docVecModel.d2v')"
   ]
  },
  {
   "cell_type": "code",
   "execution_count": 10,
   "metadata": {},
   "outputs": [],
   "source": [
    "from gensim.parsing.preprocessing import preprocess_string, remove_stopwords\n",
    " \n",
    "def to_vector(sentence):\n",
    "    \"\"\"\n",
    "    >>> to_vector(\"US raise TV indecency US politicians are\").mean()\n",
    "    -0.0018694705\n",
    "    \"\"\"\n",
    "    \n",
    "    cleaned = preprocess_string(sentence)\n",
    "    docVector = docVecModel.infer_vector(cleaned)\n",
    "    return docVector\n",
    " \n",
    "def similar_news_articles(sentence):\n",
    "    \"\"\"\n",
    "    >>> similar_news_articles(\"US president in India \").index[0]\n",
    "    925\n",
    "    \"\"\"\n",
    "    vector = to_vector(sentence)\n",
    "    similar_vectors = docVecModel.docvecs.most_similar(positive=[vector])\n",
    "    similar_lines = lines_df[lines_df.index==similar_vectors[0][0]].news\n",
    "    return similar_lines\n"
   ]
  },
  {
   "cell_type": "code",
   "execution_count": 11,
   "metadata": {},
   "outputs": [
    {
     "data": {
      "text/plain": [
       "2018    UK needs tax cuts Tories insist A major change...\n",
       "Name: news, dtype: object"
      ]
     },
     "execution_count": 11,
     "metadata": {},
     "output_type": "execute_result"
    }
   ],
   "source": [
    "similar_news_articles(\"US raise TV indecency US politicians are proposing a tough new law aimed at cracking down on indecency\")\n"
   ]
  },
  {
   "cell_type": "code",
   "execution_count": 12,
   "metadata": {},
   "outputs": [
    {
     "name": "stdout",
     "output_type": "stream",
     "text": [
      "Trying:\n",
      "    similar_news_articles(\"US president in India \").index[0]\n",
      "Expecting:\n",
      "    925\n",
      "**********************************************************************\n",
      "File \"__main__\", line 15, in __main__.similar_news_articles\n",
      "Failed example:\n",
      "    similar_news_articles(\"US president in India \").index[0]\n",
      "Expected:\n",
      "    925\n",
      "Got:\n",
      "    1074\n",
      "Trying:\n",
      "    to_vector(\"US raise TV indecency US politicians are\").mean()\n",
      "Expecting:\n",
      "    -0.0018694705\n",
      "**********************************************************************\n",
      "File \"__main__\", line 5, in __main__.to_vector\n",
      "Failed example:\n",
      "    to_vector(\"US raise TV indecency US politicians are\").mean()\n",
      "Expected:\n",
      "    -0.0018694705\n",
      "Got:\n",
      "    0.00013657163\n",
      "1 items had no tests:\n",
      "    __main__\n",
      "**********************************************************************\n",
      "2 items had failures:\n",
      "   1 of   1 in __main__.similar_news_articles\n",
      "   1 of   1 in __main__.to_vector\n",
      "2 tests in 3 items.\n",
      "0 passed and 2 failed.\n",
      "***Test Failed*** 2 failures.\n"
     ]
    },
    {
     "data": {
      "text/plain": [
       "TestResults(failed=2, attempted=2)"
      ]
     },
     "execution_count": 12,
     "metadata": {},
     "output_type": "execute_result"
    }
   ],
   "source": [
    "import doctest\n",
    "doctest.testmod(verbose=True)"
   ]
  },
  {
   "cell_type": "code",
   "execution_count": null,
   "metadata": {},
   "outputs": [],
   "source": [
    "to_vector(\"US raise TV indecency US politicians are\").mean()"
   ]
  },
  {
   "cell_type": "code",
   "execution_count": null,
   "metadata": {},
   "outputs": [],
   "source": []
  },
  {
   "cell_type": "code",
   "execution_count": null,
   "metadata": {},
   "outputs": [],
   "source": []
  }
 ],
 "metadata": {
  "kernelspec": {
   "display_name": "Python 3",
   "language": "python",
   "name": "python3"
  },
  "language_info": {
   "codemirror_mode": {
    "name": "ipython",
    "version": 3
   },
   "file_extension": ".py",
   "mimetype": "text/x-python",
   "name": "python",
   "nbconvert_exporter": "python",
   "pygments_lexer": "ipython3",
   "version": "3.5.2"
  }
 },
 "nbformat": 4,
 "nbformat_minor": 2
}
